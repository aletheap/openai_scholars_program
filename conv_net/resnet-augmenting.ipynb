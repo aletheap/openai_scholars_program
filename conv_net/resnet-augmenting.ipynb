{
 "cells": [
  {
   "cell_type": "markdown",
   "metadata": {},
   "source": [
    "# Alethea's Attempt at ResNet-34"
   ]
  },
  {
   "cell_type": "code",
   "execution_count": 1,
   "metadata": {},
   "outputs": [],
   "source": [
    "import os\n",
    "\n",
    "import matplotlib.pyplot as plt\n",
    "import numpy as np\n",
    "\n",
    "import torch\n",
    "from torch import nn\n",
    "from torch.utils.data import DataLoader\n",
    "\n",
    "import torchvision\n",
    "from torchvision import transforms\n",
    "import time\n",
    "\n",
    "import wandb"
   ]
  },
  {
   "cell_type": "code",
   "execution_count": 2,
   "metadata": {},
   "outputs": [
    {
     "name": "stdout",
     "output_type": "stream",
     "text": [
      "0 GeForce RTX 2080 Ti\n",
      "1 GeForce GTX 1080 Ti\n"
     ]
    }
   ],
   "source": [
    "for i in range(torch.cuda.device_count()):\n",
    "    print(i, torch.cuda.get_device_name(i))"
   ]
  },
  {
   "cell_type": "code",
   "execution_count": 3,
   "metadata": {},
   "outputs": [
    {
     "data": {
      "text/html": [
       "\n",
       "                Logging results to <a href=\"https://wandb.com\" target=\"_blank\">Weights & Biases</a> <a href=\"https://docs.wandb.com/integrations/jupyter.html\" target=\"_blank\">(Documentation)</a>.<br/>\n",
       "                Project page: <a href=\"https://app.wandb.ai/aletheap/my-resnet34-augmenting\" target=\"_blank\">https://app.wandb.ai/aletheap/my-resnet34-augmenting</a><br/>\n",
       "                Run page: <a href=\"https://app.wandb.ai/aletheap/my-resnet34-augmenting/runs/96jsj6qs\" target=\"_blank\">https://app.wandb.ai/aletheap/my-resnet34-augmenting/runs/96jsj6qs</a><br/>\n",
       "            "
      ],
      "text/plain": [
       "<IPython.core.display.HTML object>"
      ]
     },
     "metadata": {},
     "output_type": "display_data"
    },
    {
     "data": {
      "text/plain": [
       "W&B Run: https://app.wandb.ai/aletheap/my-resnet34-augmenting/runs/96jsj6qs"
      ]
     },
     "execution_count": 3,
     "metadata": {},
     "output_type": "execute_result"
    }
   ],
   "source": [
    "config = {\n",
    "            'device': 'cuda:0',\n",
    "            'initializer': None,\n",
    "            'init_gain': 5,\n",
    "            'learning_rate': 0.1,\n",
    "            'load_workers': os.cpu_count(), \n",
    "            'batch_size': 190,\n",
    "            'max_epochs': 200,\n",
    "            'training_loops': 1,\n",
    "            'dropout': 0.5,\n",
    "            'optimizer': 'SGD',\n",
    "            'dataset': 'oxford-iiit-pet',\n",
    "            'random_seed': 1,\n",
    "         }\n",
    "wandb.init(project=\"my-resnet34-augmenting\", config=config)\n"
   ]
  },
  {
   "cell_type": "code",
   "execution_count": 4,
   "metadata": {},
   "outputs": [],
   "source": [
    "if wandb.config.random_seed:\n",
    "    torch.manual_seed(wandb.config.random_seed)\n",
    "    torch.cuda.manual_seed(wandb.config.random_seed)"
   ]
  },
  {
   "cell_type": "code",
   "execution_count": 5,
   "metadata": {},
   "outputs": [
    {
     "name": "stdout",
     "output_type": "stream",
     "text": [
      "Using device: cuda:0\n"
     ]
    }
   ],
   "source": [
    "# Use CUDA\n",
    "#use_cuda = torch.cuda.is_available()\n",
    "#cuda_dev = wandb.config.device\n",
    "#device = torch.device(cuda_dev if use_cuda else \"cpu\")\n",
    "device = torch.device(wandb.config.device)\n",
    "print(\"Using device:\", device)\n"
   ]
  },
  {
   "cell_type": "markdown",
   "metadata": {},
   "source": [
    "## Load our data. \n",
    "\n",
    "I'm using advice from https://www.learnopencv.com/pytorch-for-beginners-image-classification-using-pre-trained-models/ about regularizing image data. \n"
   ]
  },
  {
   "cell_type": "code",
   "execution_count": 6,
   "metadata": {},
   "outputs": [
    {
     "name": "stdout",
     "output_type": "stream",
     "text": [
      "datadir: /home/apower/data/oxford-iiit-pet\n",
      "traindir: /home/apower/data/oxford-iiit-pet/train\n",
      "devdir: /home/apower/data/oxford-iiit-pet/dev\n",
      "testdir: /home/apower/data/oxford-iiit-pet/test\n",
      "training_set: 5760 \n",
      "dev_set: 800 \n",
      "test_set: 800 \n",
      "labels: 38\n"
     ]
    }
   ],
   "source": [
    "\n",
    "# Note to self: Try this: https://www.basicml.com/performance/2019/04/16/pytorch-data-augmentation-with-nvidia-dali.html\n",
    "# cause I think cpu image transforms are a bottleneck for me\n",
    "\n",
    "\n",
    "\n",
    "transform = transforms.Compose([transforms.Resize(256),\n",
    "                                transforms.RandomCrop(224),\n",
    "                                transforms.ColorJitter(brightness=.5, contrast=.5, saturation=.5, hue=.5),\n",
    "                                transforms.RandomHorizontalFlip(),\n",
    "                                transforms.RandomRotation(90),\n",
    "                                transforms.ToTensor(),         \n",
    "                                transforms.Normalize(mean=[0.485, 0.456, 0.406],    \n",
    "                                                     std=[0.229, 0.224, 0.225])\n",
    "                               ])\n",
    "\n",
    "dev_test_transform = transforms.Compose([transforms.Resize(256),\n",
    "                                transforms.CenterCrop(224),\n",
    "                                transforms.ToTensor(),         \n",
    "                                transforms.Normalize(mean=[0.485, 0.456, 0.406],    \n",
    "                                                     std=[0.229, 0.224, 0.225])\n",
    "                               ])\n",
    "\n",
    "\n",
    "datadir = os.path.join(\"/home/apower/data\", wandb.config.dataset) \n",
    "print('datadir:', datadir)\n",
    "traindir = os.path.join(datadir, 'train')\n",
    "print('traindir:', traindir)\n",
    "devdir = os.path.join(datadir, 'dev')\n",
    "print('devdir:', devdir)\n",
    "testdir = os.path.join(datadir, 'test')\n",
    "print('testdir:', testdir)\n",
    "\n",
    "X_train = torchvision.datasets.ImageFolder(traindir, transform)\n",
    "X_dev = torchvision.datasets.ImageFolder(devdir, dev_test_transform)\n",
    "X_test = torchvision.datasets.ImageFolder(testdir, dev_test_transform)\n",
    "\n",
    "num_labels = len(X_train.classes)\n",
    "\n",
    "print('training_set:', len(X_train), '\\ndev_set:', len(X_dev), '\\ntest_set:', len(X_test), '\\nlabels:', num_labels)\n",
    "#print('training_set:', len(X_train), '\\ndev_set:', len(X_dev), '\\nlabels:', num_labels)"
   ]
  },
  {
   "cell_type": "code",
   "execution_count": 7,
   "metadata": {},
   "outputs": [],
   "source": [
    "#to_pic = torchvision.transforms.ToPILImage()\n",
    "#to_pic(X_train[0][0])"
   ]
  },
  {
   "cell_type": "code",
   "execution_count": 8,
   "metadata": {},
   "outputs": [],
   "source": [
    "#to_pic = torchvision.transforms.ToPILImage()\n",
    "#to_pic(X_dev[0][0])"
   ]
  },
  {
   "cell_type": "code",
   "execution_count": 9,
   "metadata": {},
   "outputs": [],
   "source": [
    "train_loader = DataLoader(X_train, batch_size=wandb.config.batch_size, shuffle=True, num_workers=wandb.config.load_workers)\n",
    "dev_loader = DataLoader(X_dev, batch_size=1, shuffle=True)\n",
    "test_loader = DataLoader(X_test, batch_size=1, shuffle=True)"
   ]
  },
  {
   "cell_type": "markdown",
   "metadata": {},
   "source": [
    "## Let's Build the Model"
   ]
  },
  {
   "cell_type": "markdown",
   "metadata": {},
   "source": [
    "I'm basing this on the resnet diagram from: https://cv-tricks.com/keras/understand-implement-resnets/"
   ]
  },
  {
   "cell_type": "code",
   "execution_count": 10,
   "metadata": {},
   "outputs": [],
   "source": [
    "class Projection(nn.Module):\n",
    "    def __init__(self, in_channels, out_channels):\n",
    "        super().__init__()\n",
    "                \n",
    "        if in_channels == out_channels:\n",
    "            self.proj = None \n",
    "        else:\n",
    "            self.proj = nn.Conv2d(in_channels=in_channels, out_channels=out_channels, kernel_size=1, stride=2)\n",
    "            if wandb.config.initializer:\n",
    "                getattr(nn.init, wandb.config.initializer)(self.proj.weight, gain=wandb.config.init_gain)\n",
    "\n",
    "    def forward(self, X):\n",
    "        if self.proj:\n",
    "            return self.proj(X)\n",
    "        else:\n",
    "            return X"
   ]
  },
  {
   "cell_type": "code",
   "execution_count": 11,
   "metadata": {},
   "outputs": [],
   "source": [
    "class ResidualBlock(nn.Module):\n",
    "    def __init__(self, in_channels, out_channels):\n",
    "        super().__init__()\n",
    "        \n",
    "        self.in_channels = in_channels\n",
    "        self.out_channels = out_channels\n",
    "        \n",
    "        if in_channels == out_channels:\n",
    "            stride = 1\n",
    "        else:\n",
    "            stride = 2\n",
    "\n",
    "        conv1 = nn.Conv2d(in_channels, out_channels, kernel_size=3, padding=1, stride=stride)\n",
    "        if wandb.config.initializer:\n",
    "            getattr(nn.init, wandb.config.initializer)(conv1.weight, gain=wandb.config.init_gain)\n",
    "        \n",
    "        conv2 = nn.Conv2d(out_channels, out_channels, kernel_size=3, padding=1)\n",
    "        if wandb.config.initializer:\n",
    "            getattr(nn.init, wandb.config.initializer)(conv2.weight, gain=wandb.config.init_gain)\n",
    "        \n",
    "        self.layer1 = nn.Sequential(conv1,\n",
    "                                    nn.BatchNorm2d(out_channels), \n",
    "                                    nn.Dropout2d(p=wandb.config.dropout),\n",
    "                                    nn.ReLU())\n",
    "        self.layer2 = nn.Sequential(conv2,\n",
    "                                    nn.BatchNorm2d(out_channels), \n",
    "                                    nn.Dropout2d(p=wandb.config.dropout),\n",
    "                                    nn.ReLU())\n",
    "\n",
    "        self.proj = Projection(in_channels, out_channels)\n",
    "\n",
    "    def forward(self, X):\n",
    "        a = X\n",
    "        a = self.layer1(a)\n",
    "        a = self.layer2(a)\n",
    "        return a + self.proj(X)"
   ]
  },
  {
   "cell_type": "code",
   "execution_count": 12,
   "metadata": {},
   "outputs": [],
   "source": [
    "class ResNet34(nn.Module):\n",
    "\n",
    "    def __init__(self, num_labels):\n",
    "        super().__init__()\n",
    "        \n",
    "        self. num_labels = num_labels\n",
    "        \n",
    "        # 7x7 Conv\n",
    "        conv1 = nn.Conv2d(in_channels=3, out_channels=64, kernel_size=7, stride=2)\n",
    "        if wandb.config.initializer:\n",
    "            getattr(nn.init, wandb.config.initializer)(conv1.weight, gain=wandb.config.init_gain)\n",
    "        self.layer1 = nn.Sequential(conv1,\n",
    "                                    nn.BatchNorm2d(num_features=64),\n",
    "                                    nn.Dropout2d(p=wandb.config.dropout),\n",
    "                                    nn.ReLU())\n",
    "\n",
    "        # 3x3 MaxPool\n",
    "        self.layer2 = nn.Sequential(nn.MaxPool2d(kernel_size=3, stride=2),\n",
    "                                    nn.BatchNorm2d(num_features=64),\n",
    "                                    nn.ReLU())\n",
    "\n",
    "        # Stage 1\n",
    "        self.stage1 = nn.Sequential(ResidualBlock(in_channels=64, out_channels=64),\n",
    "                                    ResidualBlock(in_channels=64, out_channels=64),\n",
    "                                    ResidualBlock(in_channels=64, out_channels=64))\n",
    "\n",
    "        # Stage 2\n",
    "        self.stage2 = nn.Sequential(ResidualBlock(in_channels=64, out_channels=128),\n",
    "                                    ResidualBlock(in_channels=128, out_channels=128),\n",
    "                                    ResidualBlock(in_channels=128, out_channels=128),\n",
    "                                    ResidualBlock(in_channels=128, out_channels=128))\n",
    "\n",
    "        # Stage 3\n",
    "        self.stage3 = nn.Sequential(ResidualBlock(in_channels=128, out_channels=256),\n",
    "                                    ResidualBlock(in_channels=256, out_channels=256),\n",
    "                                    ResidualBlock(in_channels=256, out_channels=256),\n",
    "                                    ResidualBlock(in_channels=256, out_channels=256),\n",
    "                                    ResidualBlock(in_channels=256, out_channels=256),\n",
    "                                    ResidualBlock(in_channels=256, out_channels=256))\n",
    "        \n",
    "        # Stage 4\n",
    "        self.stage4 = nn.Sequential(ResidualBlock(in_channels=256, out_channels=512),\n",
    "                                    ResidualBlock(in_channels=512, out_channels=512),\n",
    "                                    ResidualBlock(in_channels=512, out_channels=512))\n",
    "        \n",
    "\n",
    "        # AveragePool\n",
    "        self.avgpool = nn.AvgPool2d(kernel_size=2)\n",
    "        \n",
    "        # Fully Connected\n",
    "        lin = nn.Linear(in_features=4608, out_features=num_labels)\n",
    "        if wandb.config.initializer:\n",
    "            getattr(nn.init, wandb.config.initializer)(lin.weight, gain=wandb.config.init_gain)        \n",
    "        self.fc = nn.Sequential(lin, nn.Softmax(dim=1)) \n",
    "\n",
    "        \n",
    "    def forward(self, X):\n",
    "        prefix = ' ' * 0\n",
    "        a = X       \n",
    "        a = self.layer1(X)\n",
    "        a = self.layer2(a)\n",
    "        a = self.stage1(a)\n",
    "        a = self.stage2(a)\n",
    "        a = self.stage3(a)\n",
    "        a = self.stage4(a)\n",
    "        a = self.avgpool(a)\n",
    "        a = a.reshape(a.size(0), -1)\n",
    "        a = self.fc(a)\n",
    "        return a\n",
    "        "
   ]
  },
  {
   "cell_type": "markdown",
   "metadata": {},
   "source": [
    "## Train the Model\n",
    "\n"
   ]
  },
  {
   "cell_type": "code",
   "execution_count": 13,
   "metadata": {},
   "outputs": [],
   "source": [
    "model = ResNet34(num_labels=num_labels)\n",
    "#wandb.watch(model)\n",
    "#model = nn.DataParallel(model, device_ids=[0,1])\n",
    "#model = nn.DataParallel(model)\n",
    "model = model.to(device)"
   ]
  },
  {
   "cell_type": "code",
   "execution_count": 14,
   "metadata": {},
   "outputs": [
    {
     "name": "stdout",
     "output_type": "stream",
     "text": [
      "Parameter containing:\n",
      "tensor([-4.1077e-03, -7.5653e-03,  6.3444e-05, -1.2351e-02,  1.3766e-02,\n",
      "         7.8591e-03,  7.3893e-03, -3.1297e-04,  9.3235e-03, -7.6505e-04,\n",
      "         8.4869e-03,  1.0370e-02, -9.6265e-03,  3.2102e-03, -1.1977e-02,\n",
      "        -3.8977e-03, -1.3045e-02, -3.3345e-03, -6.7620e-03, -1.2108e-02,\n",
      "        -9.7102e-03, -1.4038e-04,  7.9170e-03, -1.3712e-02, -4.3569e-03,\n",
      "         4.3466e-03, -9.1772e-03,  1.1812e-02,  7.7005e-03, -1.4727e-02,\n",
      "        -7.9887e-03, -9.3226e-03,  3.8025e-04,  6.9521e-03, -1.3534e-02,\n",
      "        -6.2855e-03,  5.8158e-03,  1.3524e-02], device='cuda:0',\n",
      "       requires_grad=True)\n"
     ]
    }
   ],
   "source": [
    "params = model.parameters()\n",
    "p = list(params)[-1]\n",
    "print(p)\n",
    "#print(p + 2)"
   ]
  },
  {
   "cell_type": "code",
   "execution_count": 15,
   "metadata": {},
   "outputs": [],
   "source": [
    "#os.environ['CUDA_LAUNCH_BLOCKING'] = \"1\""
   ]
  },
  {
   "cell_type": "code",
   "execution_count": 16,
   "metadata": {},
   "outputs": [],
   "source": [
    "def accuracy(model, loader, name):\n",
    "    model.eval()\n",
    "    correct = 0\n",
    "    total = 0\n",
    "    with torch.no_grad():\n",
    "        for images, labels in loader:\n",
    "            images, labels = images.to(device), labels.to(device)\n",
    "            outputs = model(images)\n",
    "            _, predicted = torch.max(outputs.data, 1)\n",
    "            total += labels.size(0)\n",
    "            correct += (predicted == labels).sum().item()\n",
    "    accuracy = 100 * correct / total\n",
    "    #print('Accuracy of the network on the %s images: %.1f %%' % (name, accuracy))\n",
    "    #wandb.log({name + '_set_accuracy': accuracy})\n",
    "    return accuracy"
   ]
  },
  {
   "cell_type": "code",
   "execution_count": 27,
   "metadata": {},
   "outputs": [],
   "source": [
    "def train_model(model, loader, learning_rate=0.1, max_epochs=20):\n",
    "    model.train()\n",
    "    criterion = nn.CrossEntropyLoss()\n",
    "    optimizer = getattr(torch.optim, wandb.config.optimizer)(model.parameters(), lr=learning_rate)\n",
    "\n",
    "    for epoch in range(max_epochs):\n",
    "        model.train()\n",
    "        t0 = time.time()\n",
    "        for local_batch, local_labels in loader:\n",
    "            # Transfer to GPU\n",
    "            X, y = local_batch.to(device), local_labels.to(device)\n",
    "            optimizer.zero_grad()\n",
    "            y_pred = model(X)\n",
    "            loss = criterion(y_pred, y)\n",
    "            #loss.item()  # <-- If you delete this it won't learn\n",
    "            loss.backward()\n",
    "            optimizer.step()\n",
    "        t1 = time.time()\n",
    "        duration = t1-t0\n",
    "        loss_num = loss.item()\n",
    "        train_accuracy = accuracy(model, train_loader, 'train')\n",
    "        dev_accuracy = accuracy(model, dev_loader, 'dev')\n",
    "        relative_accuracy = dev_accuracy / train_accuracy\n",
    "        #train_accuracy = 'False'\n",
    "        #dev_accuracy = 'False'\n",
    "        #relative_accuracy = 'False'\n",
    "        wandb.log({'loss': loss.item(), \n",
    "                   'secs_per_epoch': duration, \n",
    "                   'train_accuracy': train_accuracy, \n",
    "                   'dev_accuracy': dev_accuracy, \n",
    "                   'relative_accuracy': relative_accuracy})\n",
    "        print(' ' * 4, \n",
    "              '%.1f seconds -' % (duration), \n",
    "              'epoch:', epoch, \n",
    "              'loss:', loss_num, \n",
    "              'train:', train_accuracy, \n",
    "              'dev:', dev_accuracy, \n",
    "              'relative_accuracy:', relative_accuracy)\n",
    "\n",
    "    return model"
   ]
  },
  {
   "cell_type": "code",
   "execution_count": 18,
   "metadata": {},
   "outputs": [],
   "source": [
    "learning_rate = wandb.config.learning_rate\n",
    "max_epochs = wandb.config.max_epochs\n",
    "total_loops = wandb.config.training_loops\n",
    "#model.train()"
   ]
  },
  {
   "cell_type": "code",
   "execution_count": 19,
   "metadata": {},
   "outputs": [],
   "source": [
    "max_epochs = 1\n",
    "total_loops = 1"
   ]
  },
  {
   "cell_type": "code",
   "execution_count": 20,
   "metadata": {},
   "outputs": [
    {
     "data": {
      "text/plain": [
       "Parameter containing:\n",
       "tensor([-4.1077e-03, -7.5653e-03,  6.3444e-05, -1.2351e-02,  1.3766e-02,\n",
       "         7.8591e-03,  7.3893e-03, -3.1297e-04,  9.3235e-03, -7.6505e-04,\n",
       "         8.4869e-03,  1.0370e-02, -9.6265e-03,  3.2102e-03, -1.1977e-02,\n",
       "        -3.8977e-03, -1.3045e-02, -3.3345e-03, -6.7620e-03, -1.2108e-02,\n",
       "        -9.7102e-03, -1.4038e-04,  7.9170e-03, -1.3712e-02, -4.3569e-03,\n",
       "         4.3466e-03, -9.1772e-03,  1.1812e-02,  7.7005e-03, -1.4727e-02,\n",
       "        -7.9887e-03, -9.3226e-03,  3.8025e-04,  6.9521e-03, -1.3534e-02,\n",
       "        -6.2855e-03,  5.8158e-03,  1.3524e-02], device='cuda:0',\n",
       "       requires_grad=True)"
      ]
     },
     "execution_count": 20,
     "metadata": {},
     "output_type": "execute_result"
    }
   ],
   "source": [
    "p"
   ]
  },
  {
   "cell_type": "code",
   "execution_count": 21,
   "metadata": {},
   "outputs": [
    {
     "name": "stdout",
     "output_type": "stream",
     "text": [
      "learning_rate: 0.1 max_epochs: 200\n",
      "     18.7 seconds - epoch: 0 loss: 3.681574821472168 train: 2.7604166666666665 dev: 1.375 relative_accuracy: 0.4981132075471698\n",
      "     17.9 seconds - epoch: 1 loss: 3.6097207069396973 train: 2.7256944444444446 dev: 3.25 relative_accuracy: 1.1923566878980891\n",
      "     18.1 seconds - epoch: 2 loss: 3.6374127864837646 train: 2.7777777777777777 dev: 2.375 relative_accuracy: 0.855\n",
      "     17.9 seconds - epoch: 3 loss: 3.6489827632904053 train: 2.673611111111111 dev: 3.0 relative_accuracy: 1.122077922077922\n",
      "     17.9 seconds - epoch: 4 loss: 3.6319079399108887 train: 2.795138888888889 dev: 2.5 relative_accuracy: 0.8944099378881988\n",
      "     17.8 seconds - epoch: 5 loss: 3.6472926139831543 train: 2.7083333333333335 dev: 2.875 relative_accuracy: 1.0615384615384615\n",
      "     17.6 seconds - epoch: 6 loss: 3.639526844024658 train: 2.795138888888889 dev: 2.875 relative_accuracy: 1.0285714285714287\n",
      "     18.0 seconds - epoch: 7 loss: 3.6435115337371826 train: 3.0381944444444446 dev: 3.25 relative_accuracy: 1.0697142857142856\n",
      "     17.2 seconds - epoch: 8 loss: 3.6452906131744385 train: 3.576388888888889 dev: 3.0 relative_accuracy: 0.8388349514563107\n",
      "     18.0 seconds - epoch: 9 loss: 3.6481473445892334 train: 2.829861111111111 dev: 2.375 relative_accuracy: 0.8392638036809816\n",
      "     18.2 seconds - epoch: 10 loss: 3.630697727203369 train: 3.2465277777777777 dev: 3.25 relative_accuracy: 1.0010695187165777\n",
      "     18.0 seconds - epoch: 11 loss: 3.6328330039978027 train: 2.8472222222222223 dev: 1.875 relative_accuracy: 0.6585365853658537\n",
      "     18.1 seconds - epoch: 12 loss: 3.6524975299835205 train: 3.0729166666666665 dev: 2.375 relative_accuracy: 0.7728813559322034\n",
      "     17.5 seconds - epoch: 13 loss: 3.6606967449188232 train: 3.4375 dev: 3.0 relative_accuracy: 0.8727272727272727\n",
      "     17.4 seconds - epoch: 14 loss: 3.6539065837860107 train: 3.5069444444444446 dev: 1.875 relative_accuracy: 0.5346534653465346\n",
      "     18.0 seconds - epoch: 15 loss: 3.64239239692688 train: 4.479166666666667 dev: 4.0 relative_accuracy: 0.8930232558139535\n",
      "     17.9 seconds - epoch: 16 loss: 3.6489720344543457 train: 3.9930555555555554 dev: 3.375 relative_accuracy: 0.8452173913043479\n",
      "     17.8 seconds - epoch: 17 loss: 3.607408285140991 train: 4.201388888888889 dev: 4.25 relative_accuracy: 1.0115702479338842\n",
      "     17.6 seconds - epoch: 18 loss: 3.6264731884002686 train: 4.045138888888889 dev: 4.375 relative_accuracy: 1.0815450643776823\n",
      "     17.6 seconds - epoch: 19 loss: 3.601867914199829 train: 3.8715277777777777 dev: 4.25 relative_accuracy: 1.0977578475336323\n",
      "     17.7 seconds - epoch: 20 loss: 3.6090781688690186 train: 4.548611111111111 dev: 4.75 relative_accuracy: 1.0442748091603054\n",
      "     17.4 seconds - epoch: 21 loss: 3.620955228805542 train: 4.479166666666667 dev: 5.0 relative_accuracy: 1.1162790697674418\n",
      "     17.9 seconds - epoch: 22 loss: 3.6587562561035156 train: 5.034722222222222 dev: 5.375 relative_accuracy: 1.0675862068965516\n",
      "     18.0 seconds - epoch: 23 loss: 3.6151716709136963 train: 4.583333333333333 dev: 4.875 relative_accuracy: 1.0636363636363637\n",
      "     17.8 seconds - epoch: 24 loss: 3.645671844482422 train: 4.635416666666667 dev: 4.75 relative_accuracy: 1.0247191011235954\n",
      "     17.8 seconds - epoch: 25 loss: 3.6348025798797607 train: 4.704861111111111 dev: 4.625 relative_accuracy: 0.9830258302583027\n",
      "     17.4 seconds - epoch: 26 loss: 3.6471610069274902 train: 5.15625 dev: 4.875 relative_accuracy: 0.9454545454545454\n",
      "     18.1 seconds - epoch: 27 loss: 3.64915132522583 train: 4.982638888888889 dev: 4.375 relative_accuracy: 0.8780487804878048\n",
      "     17.6 seconds - epoch: 28 loss: 3.6288042068481445 train: 5.173611111111111 dev: 5.0 relative_accuracy: 0.9664429530201343\n",
      "     17.7 seconds - epoch: 29 loss: 3.6155686378479004 train: 5.989583333333333 dev: 5.375 relative_accuracy: 0.8973913043478261\n",
      "     18.0 seconds - epoch: 30 loss: 3.6154818534851074 train: 4.930555555555555 dev: 5.5 relative_accuracy: 1.115492957746479\n",
      "     17.7 seconds - epoch: 31 loss: 3.5987226963043213 train: 5.121527777777778 dev: 4.75 relative_accuracy: 0.9274576271186441\n",
      "     17.6 seconds - epoch: 32 loss: 3.6265227794647217 train: 5.659722222222222 dev: 7.125 relative_accuracy: 1.2588957055214725\n",
      "     18.2 seconds - epoch: 33 loss: 3.6678264141082764 train: 5.520833333333333 dev: 5.875 relative_accuracy: 1.0641509433962264\n",
      "     18.1 seconds - epoch: 34 loss: 3.61354398727417 train: 5.104166666666667 dev: 5.5 relative_accuracy: 1.0775510204081633\n",
      "     17.7 seconds - epoch: 35 loss: 3.5534281730651855 train: 5.451388888888889 dev: 6.625 relative_accuracy: 1.2152866242038216\n",
      "     18.0 seconds - epoch: 36 loss: 3.579038381576538 train: 5.711805555555555 dev: 7.625 relative_accuracy: 1.334954407294833\n",
      "     18.0 seconds - epoch: 37 loss: 3.617478132247925 train: 6.631944444444445 dev: 6.5 relative_accuracy: 0.9801047120418848\n",
      "     17.3 seconds - epoch: 38 loss: 3.6480207443237305 train: 5.972222222222222 dev: 6.625 relative_accuracy: 1.1093023255813954\n",
      "     18.0 seconds - epoch: 39 loss: 3.578688383102417 train: 4.982638888888889 dev: 5.375 relative_accuracy: 1.078745644599303\n",
      "     17.9 seconds - epoch: 40 loss: 3.6372952461242676 train: 5.989583333333333 dev: 5.375 relative_accuracy: 0.8973913043478261\n",
      "     17.6 seconds - epoch: 41 loss: 3.6350808143615723 train: 5.329861111111111 dev: 7.125 relative_accuracy: 1.3368078175895766\n",
      "     18.1 seconds - epoch: 42 loss: 3.571986675262451 train: 5.364583333333333 dev: 6.125 relative_accuracy: 1.141747572815534\n",
      "     18.0 seconds - epoch: 43 loss: 3.649918556213379 train: 4.930555555555555 dev: 4.625 relative_accuracy: 0.9380281690140846\n",
      "     18.0 seconds - epoch: 44 loss: 3.6540591716766357 train: 5.642361111111111 dev: 6.125 relative_accuracy: 1.0855384615384616\n",
      "     17.8 seconds - epoch: 45 loss: 3.617149591445923 train: 5.416666666666667 dev: 7.875 relative_accuracy: 1.4538461538461538\n",
      "     17.6 seconds - epoch: 46 loss: 3.6150436401367188 train: 5.399305555555555 dev: 6.875 relative_accuracy: 1.2733118971061095\n",
      "     18.0 seconds - epoch: 47 loss: 3.61548113822937 train: 6.024305555555555 dev: 6.625 relative_accuracy: 1.0997118155619596\n",
      "     18.1 seconds - epoch: 48 loss: 3.634674072265625 train: 5.572916666666667 dev: 6.75 relative_accuracy: 1.211214953271028\n",
      "     17.9 seconds - epoch: 49 loss: 3.6368794441223145 train: 6.006944444444445 dev: 7.625 relative_accuracy: 1.269364161849711\n",
      "     17.7 seconds - epoch: 50 loss: 3.588510274887085 train: 5.729166666666667 dev: 6.625 relative_accuracy: 1.1563636363636363\n",
      "     17.6 seconds - epoch: 51 loss: 3.6112873554229736 train: 5.902777777777778 dev: 7.875 relative_accuracy: 1.3341176470588236\n",
      "     17.7 seconds - epoch: 52 loss: 3.633043050765991 train: 5.815972222222222 dev: 8.125 relative_accuracy: 1.3970149253731343\n",
      "     17.7 seconds - epoch: 53 loss: 3.652143955230713 train: 5.503472222222222 dev: 7.5 relative_accuracy: 1.362776025236593\n",
      "     17.6 seconds - epoch: 54 loss: 3.5794129371643066 train: 5.555555555555555 dev: 7.625 relative_accuracy: 1.3725\n",
      "     18.0 seconds - epoch: 55 loss: 3.6402394771575928 train: 6.111111111111111 dev: 8.5 relative_accuracy: 1.390909090909091\n",
      "     18.0 seconds - epoch: 56 loss: 3.6329166889190674 train: 6.024305555555555 dev: 8.25 relative_accuracy: 1.3694524495677234\n",
      "     18.0 seconds - epoch: 57 loss: 3.6265180110931396 train: 5.902777777777778 dev: 7.5 relative_accuracy: 1.2705882352941176\n",
      "     18.0 seconds - epoch: 58 loss: 3.616368055343628 train: 5.711805555555555 dev: 6.75 relative_accuracy: 1.1817629179331308\n",
      "     17.5 seconds - epoch: 59 loss: 3.6181023120880127 train: 6.545138888888889 dev: 8.5 relative_accuracy: 1.2986737400530504\n",
      "     17.3 seconds - epoch: 60 loss: 3.599783182144165 train: 6.493055555555555 dev: 8.375 relative_accuracy: 1.2898395721925133\n",
      "     18.1 seconds - epoch: 61 loss: 3.6099512577056885 train: 6.909722222222222 dev: 8.875 relative_accuracy: 1.2844221105527638\n",
      "     17.7 seconds - epoch: 62 loss: 3.6092123985290527 train: 6.440972222222222 dev: 7.875 relative_accuracy: 1.2226415094339622\n",
      "     17.9 seconds - epoch: 63 loss: 3.557354688644409 train: 6.180555555555555 dev: 7.875 relative_accuracy: 1.2741573033707865\n",
      "     18.1 seconds - epoch: 64 loss: 3.6073853969573975 train: 5.920138888888889 dev: 8.0 relative_accuracy: 1.3513196480938416\n"
     ]
    },
    {
     "name": "stdout",
     "output_type": "stream",
     "text": [
      "     17.9 seconds - epoch: 65 loss: 3.6310834884643555 train: 5.972222222222222 dev: 8.5 relative_accuracy: 1.4232558139534883\n",
      "     17.7 seconds - epoch: 66 loss: 3.6233253479003906 train: 6.753472222222222 dev: 8.125 relative_accuracy: 1.2030848329048842\n",
      "     17.8 seconds - epoch: 67 loss: 3.596874713897705 train: 6.458333333333333 dev: 7.125 relative_accuracy: 1.103225806451613\n",
      "     17.8 seconds - epoch: 68 loss: 3.6188409328460693 train: 6.40625 dev: 7.375 relative_accuracy: 1.1512195121951219\n",
      "     18.1 seconds - epoch: 69 loss: 3.6204681396484375 train: 6.284722222222222 dev: 7.625 relative_accuracy: 1.2132596685082873\n",
      "     17.4 seconds - epoch: 70 loss: 3.6137008666992188 train: 6.371527777777778 dev: 7.125 relative_accuracy: 1.1182561307901908\n",
      "     18.0 seconds - epoch: 71 loss: 3.5935566425323486 train: 6.006944444444445 dev: 7.0 relative_accuracy: 1.1653179190751444\n",
      "     17.8 seconds - epoch: 72 loss: 3.623973846435547 train: 6.267361111111111 dev: 7.375 relative_accuracy: 1.1767313019390582\n",
      "     17.5 seconds - epoch: 73 loss: 3.612290620803833 train: 6.40625 dev: 6.875 relative_accuracy: 1.0731707317073171\n",
      "     17.2 seconds - epoch: 74 loss: 3.6316475868225098 train: 6.510416666666667 dev: 8.5 relative_accuracy: 1.3055999999999999\n",
      "     17.8 seconds - epoch: 75 loss: 3.6139893531799316 train: 6.579861111111111 dev: 7.625 relative_accuracy: 1.1588390501319261\n",
      "     17.5 seconds - epoch: 76 loss: 3.529372453689575 train: 5.920138888888889 dev: 8.25 relative_accuracy: 1.3935483870967742\n",
      "     17.7 seconds - epoch: 77 loss: 3.6098692417144775 train: 6.319444444444445 dev: 8.25 relative_accuracy: 1.3054945054945055\n",
      "     17.7 seconds - epoch: 78 loss: 3.6614677906036377 train: 6.892361111111111 dev: 9.0 relative_accuracy: 1.3057934508816122\n",
      "     18.2 seconds - epoch: 79 loss: 3.657639503479004 train: 6.545138888888889 dev: 7.75 relative_accuracy: 1.1840848806366047\n",
      "     18.0 seconds - epoch: 80 loss: 3.6280336380004883 train: 6.927083333333333 dev: 8.75 relative_accuracy: 1.2631578947368423\n",
      "     17.7 seconds - epoch: 81 loss: 3.60845685005188 train: 6.510416666666667 dev: 8.875 relative_accuracy: 1.3632\n",
      "     17.6 seconds - epoch: 82 loss: 3.6322805881500244 train: 6.458333333333333 dev: 8.5 relative_accuracy: 1.3161290322580645\n",
      "     18.1 seconds - epoch: 83 loss: 3.5952773094177246 train: 6.892361111111111 dev: 8.25 relative_accuracy: 1.1969773299748112\n",
      "     17.8 seconds - epoch: 84 loss: 3.5942766666412354 train: 6.892361111111111 dev: 9.25 relative_accuracy: 1.3420654911838792\n",
      "     18.1 seconds - epoch: 85 loss: 3.614147424697876 train: 6.579861111111111 dev: 10.0 relative_accuracy: 1.5197889182058049\n",
      "     18.1 seconds - epoch: 86 loss: 3.6028544902801514 train: 6.822916666666667 dev: 10.375 relative_accuracy: 1.5206106870229006\n",
      "     17.9 seconds - epoch: 87 loss: 3.585016965866089 train: 7.118055555555555 dev: 9.875 relative_accuracy: 1.3873170731707318\n",
      "     17.3 seconds - epoch: 88 loss: 3.6136794090270996 train: 6.822916666666667 dev: 9.125 relative_accuracy: 1.3374045801526717\n",
      "     18.0 seconds - epoch: 89 loss: 3.6138699054718018 train: 6.944444444444445 dev: 9.625 relative_accuracy: 1.386\n",
      "     17.8 seconds - epoch: 90 loss: 3.6250038146972656 train: 6.961805555555555 dev: 9.75 relative_accuracy: 1.400498753117207\n",
      "     17.9 seconds - epoch: 91 loss: 3.6242387294769287 train: 6.597222222222222 dev: 9.125 relative_accuracy: 1.3831578947368421\n",
      "     17.5 seconds - epoch: 92 loss: 3.6105923652648926 train: 7.013888888888889 dev: 9.75 relative_accuracy: 1.39009900990099\n",
      "     17.6 seconds - epoch: 93 loss: 3.552030086517334 train: 6.493055555555555 dev: 9.625 relative_accuracy: 1.4823529411764707\n",
      "     18.1 seconds - epoch: 94 loss: 3.571636199951172 train: 6.666666666666667 dev: 9.5 relative_accuracy: 1.425\n",
      "     18.0 seconds - epoch: 95 loss: 3.6274468898773193 train: 6.909722222222222 dev: 8.375 relative_accuracy: 1.2120603015075377\n",
      "     18.1 seconds - epoch: 96 loss: 3.595242738723755 train: 6.579861111111111 dev: 8.5 relative_accuracy: 1.291820580474934\n",
      "     17.7 seconds - epoch: 97 loss: 3.5970864295959473 train: 6.40625 dev: 8.75 relative_accuracy: 1.3658536585365855\n",
      "     17.7 seconds - epoch: 98 loss: 3.631420850753784 train: 6.805555555555555 dev: 8.25 relative_accuracy: 1.2122448979591838\n",
      "     18.1 seconds - epoch: 99 loss: 3.57623553276062 train: 6.666666666666667 dev: 8.875 relative_accuracy: 1.33125\n",
      "     18.1 seconds - epoch: 100 loss: 3.6196515560150146 train: 6.71875 dev: 8.375 relative_accuracy: 1.2465116279069768\n",
      "     17.6 seconds - epoch: 101 loss: 3.5978214740753174 train: 7.135416666666667 dev: 7.25 relative_accuracy: 1.0160583941605839\n",
      "     18.1 seconds - epoch: 102 loss: 3.63820481300354 train: 7.326388888888889 dev: 9.0 relative_accuracy: 1.228436018957346\n",
      "     17.8 seconds - epoch: 103 loss: 3.628220796585083 train: 6.440972222222222 dev: 8.5 relative_accuracy: 1.3196765498652292\n",
      "     18.0 seconds - epoch: 104 loss: 3.6310362815856934 train: 6.805555555555555 dev: 8.375 relative_accuracy: 1.2306122448979593\n",
      "     18.1 seconds - epoch: 105 loss: 3.5958826541900635 train: 6.822916666666667 dev: 8.375 relative_accuracy: 1.2274809160305342\n",
      "     17.9 seconds - epoch: 106 loss: 3.644564390182495 train: 6.684027777777778 dev: 8.0 relative_accuracy: 1.1968831168831169\n",
      "     18.2 seconds - epoch: 107 loss: 3.573370933532715 train: 6.701388888888889 dev: 7.375 relative_accuracy: 1.100518134715026\n",
      "     17.9 seconds - epoch: 108 loss: 3.6182260513305664 train: 6.875 dev: 9.375 relative_accuracy: 1.3636363636363635\n",
      "     17.6 seconds - epoch: 109 loss: 3.5651633739471436 train: 7.1875 dev: 9.25 relative_accuracy: 1.2869565217391303\n",
      "     17.5 seconds - epoch: 110 loss: 3.617086887359619 train: 7.170138888888889 dev: 9.125 relative_accuracy: 1.2726392251815979\n",
      "     17.8 seconds - epoch: 111 loss: 3.6331167221069336 train: 7.395833333333333 dev: 8.875 relative_accuracy: 1.2\n",
      "     17.8 seconds - epoch: 112 loss: 3.628650426864624 train: 7.100694444444445 dev: 9.5 relative_accuracy: 1.3378973105134473\n",
      "     18.2 seconds - epoch: 113 loss: 3.6259260177612305 train: 6.892361111111111 dev: 9.5 relative_accuracy: 1.3783375314861461\n",
      "     17.5 seconds - epoch: 114 loss: 3.6030313968658447 train: 6.71875 dev: 9.125 relative_accuracy: 1.3581395348837209\n",
      "     17.6 seconds - epoch: 115 loss: 3.6548471450805664 train: 7.395833333333333 dev: 9.0 relative_accuracy: 1.2169014084507044\n",
      "     18.0 seconds - epoch: 116 loss: 3.66556715965271 train: 7.743055555555555 dev: 9.5 relative_accuracy: 1.2269058295964126\n",
      "     17.9 seconds - epoch: 117 loss: 3.573065757751465 train: 7.083333333333333 dev: 9.125 relative_accuracy: 1.2882352941176471\n",
      "     17.7 seconds - epoch: 118 loss: 3.6338160037994385 train: 7.447916666666667 dev: 9.125 relative_accuracy: 1.2251748251748251\n",
      "     17.7 seconds - epoch: 119 loss: 3.617389678955078 train: 7.1875 dev: 9.875 relative_accuracy: 1.373913043478261\n",
      "     18.1 seconds - epoch: 120 loss: 3.6238057613372803 train: 7.5 dev: 10.625 relative_accuracy: 1.4166666666666667\n",
      "     17.9 seconds - epoch: 121 loss: 3.548431873321533 train: 7.638888888888889 dev: 9.25 relative_accuracy: 1.210909090909091\n",
      "     17.7 seconds - epoch: 122 loss: 3.576071262359619 train: 7.621527777777778 dev: 9.25 relative_accuracy: 1.2136674259681093\n",
      "     17.8 seconds - epoch: 123 loss: 3.565295696258545 train: 7.673611111111111 dev: 9.5 relative_accuracy: 1.2380090497737557\n",
      "     18.1 seconds - epoch: 124 loss: 3.621962308883667 train: 6.753472222222222 dev: 9.875 relative_accuracy: 1.462210796915167\n",
      "     18.1 seconds - epoch: 125 loss: 3.57281494140625 train: 7.274305555555555 dev: 9.75 relative_accuracy: 1.3403341288782817\n",
      "     18.2 seconds - epoch: 126 loss: 3.6356701850891113 train: 7.34375 dev: 9.625 relative_accuracy: 1.3106382978723403\n",
      "     18.0 seconds - epoch: 127 loss: 3.5962560176849365 train: 6.996527777777778 dev: 8.25 relative_accuracy: 1.1791563275434243\n",
      "     17.9 seconds - epoch: 128 loss: 3.6445798873901367 train: 7.586805555555555 dev: 8.5 relative_accuracy: 1.1203661327231123\n",
      "     18.1 seconds - epoch: 129 loss: 3.6367552280426025 train: 7.1875 dev: 9.0 relative_accuracy: 1.2521739130434784\n",
      "     18.0 seconds - epoch: 130 loss: 3.576110601425171 train: 7.777777777777778 dev: 8.625 relative_accuracy: 1.1089285714285715\n"
     ]
    },
    {
     "name": "stdout",
     "output_type": "stream",
     "text": [
      "     17.8 seconds - epoch: 131 loss: 3.5951149463653564 train: 7.03125 dev: 8.625 relative_accuracy: 1.2266666666666666\n",
      "     18.0 seconds - epoch: 132 loss: 3.6324639320373535 train: 7.222222222222222 dev: 9.125 relative_accuracy: 1.2634615384615384\n",
      "     18.0 seconds - epoch: 133 loss: 3.56304931640625 train: 7.118055555555555 dev: 7.625 relative_accuracy: 1.071219512195122\n",
      "     17.6 seconds - epoch: 134 loss: 3.6295623779296875 train: 6.996527777777778 dev: 8.5 relative_accuracy: 1.2148883374689827\n",
      "     17.8 seconds - epoch: 135 loss: 3.570326328277588 train: 6.215277777777778 dev: 7.75 relative_accuracy: 1.246927374301676\n",
      "     17.7 seconds - epoch: 136 loss: 3.6582024097442627 train: 7.256944444444445 dev: 8.875 relative_accuracy: 1.2229665071770335\n",
      "     18.0 seconds - epoch: 137 loss: 3.6010019779205322 train: 7.586805555555555 dev: 10.375 relative_accuracy: 1.3675057208237986\n",
      "     17.5 seconds - epoch: 138 loss: 3.601182460784912 train: 7.222222222222222 dev: 10.25 relative_accuracy: 1.4192307692307693\n",
      "     17.7 seconds - epoch: 139 loss: 3.6237988471984863 train: 7.378472222222222 dev: 8.625 relative_accuracy: 1.1689411764705882\n",
      "     17.4 seconds - epoch: 140 loss: 3.6520285606384277 train: 7.239583333333333 dev: 9.5 relative_accuracy: 1.3122302158273382\n",
      "     18.0 seconds - epoch: 141 loss: 3.647381067276001 train: 7.135416666666667 dev: 8.25 relative_accuracy: 1.1562043795620438\n",
      "     17.6 seconds - epoch: 142 loss: 3.6201012134552 train: 6.649305555555555 dev: 9.25 relative_accuracy: 1.3911227154046997\n",
      "     18.0 seconds - epoch: 143 loss: 3.5840578079223633 train: 7.361111111111111 dev: 8.25 relative_accuracy: 1.120754716981132\n",
      "     18.0 seconds - epoch: 144 loss: 3.6144063472747803 train: 7.239583333333333 dev: 8.625 relative_accuracy: 1.1913669064748202\n",
      "     17.6 seconds - epoch: 145 loss: 3.5940606594085693 train: 6.857638888888889 dev: 8.875 relative_accuracy: 1.2941772151898734\n",
      "     18.1 seconds - epoch: 146 loss: 3.6552860736846924 train: 7.378472222222222 dev: 9.0 relative_accuracy: 1.2197647058823529\n",
      "     17.8 seconds - epoch: 147 loss: 3.5838541984558105 train: 7.413194444444445 dev: 9.375 relative_accuracy: 1.2646370023419204\n",
      "     17.3 seconds - epoch: 148 loss: 3.6292433738708496 train: 7.013888888888889 dev: 9.25 relative_accuracy: 1.3188118811881187\n",
      "     17.9 seconds - epoch: 149 loss: 3.640329599380493 train: 7.013888888888889 dev: 8.25 relative_accuracy: 1.1762376237623762\n",
      "     17.9 seconds - epoch: 150 loss: 3.563117027282715 train: 6.857638888888889 dev: 9.25 relative_accuracy: 1.3488607594936708\n",
      "     18.0 seconds - epoch: 151 loss: 3.5810866355895996 train: 7.361111111111111 dev: 8.25 relative_accuracy: 1.120754716981132\n",
      "     18.0 seconds - epoch: 152 loss: 3.6498944759368896 train: 7.465277777777778 dev: 8.875 relative_accuracy: 1.1888372093023256\n",
      "     18.1 seconds - epoch: 153 loss: 3.6003754138946533 train: 7.274305555555555 dev: 8.875 relative_accuracy: 1.2200477326968975\n",
      "     18.0 seconds - epoch: 154 loss: 3.637772798538208 train: 7.083333333333333 dev: 8.625 relative_accuracy: 1.2176470588235295\n",
      "     18.0 seconds - epoch: 155 loss: 3.6031601428985596 train: 7.291666666666667 dev: 9.875 relative_accuracy: 1.3542857142857143\n",
      "     18.1 seconds - epoch: 156 loss: 3.6315155029296875 train: 7.465277777777778 dev: 8.625 relative_accuracy: 1.1553488372093024\n",
      "     18.3 seconds - epoch: 157 loss: 3.569507360458374 train: 7.274305555555555 dev: 8.875 relative_accuracy: 1.2200477326968975\n",
      "     18.0 seconds - epoch: 158 loss: 3.6218791007995605 train: 7.222222222222222 dev: 8.375 relative_accuracy: 1.1596153846153845\n",
      "     18.0 seconds - epoch: 159 loss: 3.6133439540863037 train: 6.944444444444445 dev: 10.0 relative_accuracy: 1.44\n",
      "     18.0 seconds - epoch: 160 loss: 3.5891544818878174 train: 7.534722222222222 dev: 9.5 relative_accuracy: 1.2608294930875577\n",
      "     18.0 seconds - epoch: 161 loss: 3.576617479324341 train: 7.274305555555555 dev: 10.0 relative_accuracy: 1.3747016706443915\n",
      "     17.7 seconds - epoch: 162 loss: 3.5133721828460693 train: 7.378472222222222 dev: 8.5 relative_accuracy: 1.152\n",
      "     17.6 seconds - epoch: 163 loss: 3.607901096343994 train: 7.361111111111111 dev: 8.375 relative_accuracy: 1.1377358490566039\n",
      "     18.0 seconds - epoch: 164 loss: 3.6046061515808105 train: 7.326388888888889 dev: 9.5 relative_accuracy: 1.2966824644549761\n",
      "     17.9 seconds - epoch: 165 loss: 3.646327257156372 train: 7.378472222222222 dev: 9.5 relative_accuracy: 1.2875294117647058\n",
      "     18.0 seconds - epoch: 166 loss: 3.6284329891204834 train: 6.979166666666667 dev: 9.0 relative_accuracy: 1.2895522388059701\n",
      "     17.5 seconds - epoch: 167 loss: 3.607490301132202 train: 7.5 dev: 9.25 relative_accuracy: 1.2333333333333334\n",
      "     17.8 seconds - epoch: 168 loss: 3.624077081680298 train: 7.916666666666667 dev: 9.0 relative_accuracy: 1.1368421052631579\n",
      "     17.4 seconds - epoch: 169 loss: 3.6306679248809814 train: 7.569444444444445 dev: 10.0 relative_accuracy: 1.3211009174311927\n",
      "     17.9 seconds - epoch: 170 loss: 3.6216282844543457 train: 7.552083333333333 dev: 10.125 relative_accuracy: 1.340689655172414\n",
      "     18.1 seconds - epoch: 171 loss: 3.602470874786377 train: 8.003472222222221 dev: 10.375 relative_accuracy: 1.2963123644251628\n",
      "     18.1 seconds - epoch: 172 loss: 3.564206600189209 train: 7.395833333333333 dev: 9.875 relative_accuracy: 1.3352112676056338\n",
      "     17.9 seconds - epoch: 173 loss: 3.6037862300872803 train: 7.517361111111111 dev: 10.0 relative_accuracy: 1.330254041570439\n",
      "     17.9 seconds - epoch: 174 loss: 3.6330392360687256 train: 7.170138888888889 dev: 11.375 relative_accuracy: 1.5864406779661016\n",
      "     17.9 seconds - epoch: 175 loss: 3.615166187286377 train: 6.770833333333333 dev: 10.25 relative_accuracy: 1.5138461538461538\n",
      "     17.9 seconds - epoch: 176 loss: 3.6027071475982666 train: 7.8125 dev: 10.875 relative_accuracy: 1.392\n",
      "     18.0 seconds - epoch: 177 loss: 3.621657371520996 train: 8.020833333333334 dev: 10.875 relative_accuracy: 1.3558441558441559\n",
      "     17.6 seconds - epoch: 178 loss: 3.647873878479004 train: 7.725694444444445 dev: 10.25 relative_accuracy: 1.3267415730337078\n",
      "     18.1 seconds - epoch: 179 loss: 3.575580596923828 train: 7.569444444444445 dev: 10.875 relative_accuracy: 1.436697247706422\n",
      "     17.7 seconds - epoch: 180 loss: 3.6336569786071777 train: 7.65625 dev: 9.875 relative_accuracy: 1.2897959183673469\n",
      "     17.6 seconds - epoch: 181 loss: 3.6291556358337402 train: 7.517361111111111 dev: 10.125 relative_accuracy: 1.3468822170900694\n",
      "     17.4 seconds - epoch: 182 loss: 3.6058387756347656 train: 7.395833333333333 dev: 9.625 relative_accuracy: 1.3014084507042254\n",
      "     18.1 seconds - epoch: 183 loss: 3.6202502250671387 train: 7.517361111111111 dev: 10.375 relative_accuracy: 1.3801385681293303\n",
      "     17.8 seconds - epoch: 184 loss: 3.6426992416381836 train: 7.795138888888889 dev: 10.0 relative_accuracy: 1.2828507795100221\n",
      "     18.0 seconds - epoch: 185 loss: 3.60945725440979 train: 6.944444444444445 dev: 9.625 relative_accuracy: 1.386\n",
      "     17.9 seconds - epoch: 186 loss: 3.5831210613250732 train: 7.586805555555555 dev: 10.0 relative_accuracy: 1.3180778032036613\n",
      "     17.9 seconds - epoch: 187 loss: 3.630038022994995 train: 8.472222222222221 dev: 10.625 relative_accuracy: 1.2540983606557379\n",
      "     17.7 seconds - epoch: 188 loss: 3.6057803630828857 train: 7.673611111111111 dev: 11.125 relative_accuracy: 1.4497737556561088\n",
      "     18.1 seconds - epoch: 189 loss: 3.6081039905548096 train: 8.090277777777779 dev: 10.125 relative_accuracy: 1.2515021459227467\n",
      "     17.6 seconds - epoch: 190 loss: 3.6032493114471436 train: 7.604166666666667 dev: 10.75 relative_accuracy: 1.4136986301369863\n",
      "     18.1 seconds - epoch: 191 loss: 3.5747485160827637 train: 7.534722222222222 dev: 10.375 relative_accuracy: 1.376958525345622\n",
      "     17.7 seconds - epoch: 192 loss: 3.600804328918457 train: 8.177083333333334 dev: 10.375 relative_accuracy: 1.2687898089171974\n",
      "     18.0 seconds - epoch: 193 loss: 3.540226936340332 train: 7.986111111111111 dev: 10.625 relative_accuracy: 1.3304347826086957\n",
      "     17.7 seconds - epoch: 194 loss: 3.612316846847534 train: 7.8125 dev: 10.625 relative_accuracy: 1.36\n",
      "     18.0 seconds - epoch: 195 loss: 3.638312339782715 train: 7.222222222222222 dev: 9.875 relative_accuracy: 1.3673076923076923\n"
     ]
    },
    {
     "name": "stdout",
     "output_type": "stream",
     "text": [
      "     17.8 seconds - epoch: 196 loss: 3.6006228923797607 train: 7.517361111111111 dev: 10.125 relative_accuracy: 1.3468822170900694\n",
      "     18.1 seconds - epoch: 197 loss: 3.6260533332824707 train: 7.256944444444445 dev: 10.0 relative_accuracy: 1.3779904306220094\n",
      "     18.1 seconds - epoch: 198 loss: 3.581183671951294 train: 7.309027777777778 dev: 10.25 relative_accuracy: 1.402375296912114\n",
      "     18.1 seconds - epoch: 199 loss: 3.629161834716797 train: 7.725694444444445 dev: 9.625 relative_accuracy: 1.2458426966292135\n"
     ]
    }
   ],
   "source": [
    "for i in range(wandb.config.training_loops):\n",
    "    # train model\n",
    "    print('learning_rate:', wandb.config.learning_rate, 'max_epochs:', wandb.config.max_epochs)\n",
    "    model = train_model(model, \n",
    "                        train_loader, \n",
    "                        learning_rate=wandb.config.learning_rate, \n",
    "                        max_epochs=wandb.config.max_epochs)\n",
    "\n",
    "    # save weights\n",
    "    #cpu_model = model.to(torch.device('cpu'))\n",
    "    #torch.save(cpu_model, 'resnet-augmenting.pt')\n",
    "    #model = model.to(device)\n",
    "\n",
    "    # slow down learning\n",
    "    #learning_rate = learning_rate / 10\n",
    "    #max_epochs = max_epochs + 300\n"
   ]
  },
  {
   "cell_type": "code",
   "execution_count": 39,
   "metadata": {},
   "outputs": [],
   "source": [
    "#model, losses = model\n",
    "#p2 = list(model.parameters())[-1]\n"
   ]
  },
  {
   "cell_type": "code",
   "execution_count": 38,
   "metadata": {},
   "outputs": [],
   "source": [
    "#p"
   ]
  },
  {
   "cell_type": "code",
   "execution_count": 37,
   "metadata": {},
   "outputs": [],
   "source": [
    "#p2"
   ]
  },
  {
   "cell_type": "code",
   "execution_count": 36,
   "metadata": {},
   "outputs": [],
   "source": [
    "#model.state_dict()"
   ]
  },
  {
   "cell_type": "code",
   "execution_count": null,
   "metadata": {},
   "outputs": [
    {
     "name": "stdout",
     "output_type": "stream",
     "text": [
      "     17.8 seconds - epoch: 0 loss: 3.622713565826416 train: 7.048611111111111 dev: 9.625 relative_accuracy: 1.3655172413793104\n",
      "     17.3 seconds - epoch: 1 loss: 3.5996108055114746 train: 7.204861111111111 dev: 9.875 relative_accuracy: 1.3706024096385543\n",
      "     18.0 seconds - epoch: 2 loss: 3.603652238845825 train: 7.777777777777778 dev: 9.625 relative_accuracy: 1.2375\n",
      "     17.6 seconds - epoch: 3 loss: 3.597571611404419 train: 7.621527777777778 dev: 9.625 relative_accuracy: 1.262870159453303\n",
      "     17.8 seconds - epoch: 4 loss: 3.6114957332611084 train: 7.413194444444445 dev: 9.875 relative_accuracy: 1.3320843091334895\n",
      "     18.0 seconds - epoch: 5 loss: 3.5934243202209473 train: 7.447916666666667 dev: 9.875 relative_accuracy: 1.3258741258741258\n",
      "     18.0 seconds - epoch: 6 loss: 3.6105284690856934 train: 7.96875 dev: 10.125 relative_accuracy: 1.2705882352941176\n",
      "     18.1 seconds - epoch: 7 loss: 3.6243629455566406 train: 7.708333333333333 dev: 9.875 relative_accuracy: 1.281081081081081\n",
      "     17.9 seconds - epoch: 8 loss: 3.6338658332824707 train: 8.003472222222221 dev: 10.125 relative_accuracy: 1.2650759219088938\n",
      "     17.8 seconds - epoch: 9 loss: 3.6512932777404785 train: 7.5 dev: 11.125 relative_accuracy: 1.4833333333333334\n",
      "     17.9 seconds - epoch: 10 loss: 3.6028892993927 train: 7.361111111111111 dev: 10.75 relative_accuracy: 1.4603773584905662\n",
      "     17.9 seconds - epoch: 11 loss: 3.621027708053589 train: 7.916666666666667 dev: 10.75 relative_accuracy: 1.3578947368421053\n",
      "     18.1 seconds - epoch: 12 loss: 3.5806210041046143 train: 7.395833333333333 dev: 11.0 relative_accuracy: 1.4873239436619718\n",
      "     18.1 seconds - epoch: 13 loss: 3.609677791595459 train: 8.14236111111111 dev: 11.125 relative_accuracy: 1.366311300639659\n",
      "     18.0 seconds - epoch: 14 loss: 3.6526145935058594 train: 8.090277777777779 dev: 10.75 relative_accuracy: 1.3287553648068668\n",
      "     17.8 seconds - epoch: 15 loss: 3.649329662322998 train: 8.020833333333334 dev: 10.5 relative_accuracy: 1.309090909090909\n",
      "     17.9 seconds - epoch: 16 loss: 3.611915349960327 train: 8.055555555555555 dev: 10.25 relative_accuracy: 1.2724137931034483\n",
      "     18.0 seconds - epoch: 17 loss: 3.6056363582611084 train: 7.864583333333333 dev: 11.0 relative_accuracy: 1.3986754966887418\n",
      "     18.2 seconds - epoch: 18 loss: 3.66143798828125 train: 7.309027777777778 dev: 10.875 relative_accuracy: 1.4878859857482185\n",
      "     18.1 seconds - epoch: 19 loss: 3.612741708755493 train: 7.829861111111111 dev: 10.5 relative_accuracy: 1.341019955654102\n",
      "     18.1 seconds - epoch: 20 loss: 3.5782313346862793 train: 7.760416666666667 dev: 10.875 relative_accuracy: 1.4013422818791945\n",
      "     17.6 seconds - epoch: 21 loss: 3.5854036808013916 train: 7.604166666666667 dev: 10.75 relative_accuracy: 1.4136986301369863\n",
      "     17.8 seconds - epoch: 22 loss: 3.5769050121307373 train: 8.45486111111111 dev: 10.625 relative_accuracy: 1.2566735112936345\n",
      "     17.3 seconds - epoch: 23 loss: 3.5873289108276367 train: 8.246527777777779 dev: 10.75 relative_accuracy: 1.303578947368421\n",
      "     18.0 seconds - epoch: 24 loss: 3.6243104934692383 train: 8.020833333333334 dev: 10.75 relative_accuracy: 1.3402597402597403\n",
      "     17.8 seconds - epoch: 25 loss: 3.548067331314087 train: 7.8125 dev: 10.5 relative_accuracy: 1.344\n",
      "     17.5 seconds - epoch: 26 loss: 3.5786709785461426 train: 7.725694444444445 dev: 10.625 relative_accuracy: 1.3752808988764045\n",
      "     18.1 seconds - epoch: 27 loss: 3.5002427101135254 train: 8.541666666666666 dev: 10.75 relative_accuracy: 1.2585365853658537\n",
      "     18.2 seconds - epoch: 28 loss: 3.5576577186584473 train: 7.743055555555555 dev: 11.125 relative_accuracy: 1.4367713004484306\n",
      "     18.0 seconds - epoch: 29 loss: 3.6154086589813232 train: 8.246527777777779 dev: 10.75 relative_accuracy: 1.303578947368421\n",
      "     18.1 seconds - epoch: 30 loss: 3.6219935417175293 train: 7.569444444444445 dev: 10.875 relative_accuracy: 1.436697247706422\n",
      "     18.0 seconds - epoch: 31 loss: 3.629094362258911 train: 8.14236111111111 dev: 10.125 relative_accuracy: 1.243496801705757\n",
      "     18.0 seconds - epoch: 32 loss: 3.61808180809021 train: 8.333333333333334 dev: 11.125 relative_accuracy: 1.335\n",
      "     18.0 seconds - epoch: 33 loss: 3.6447622776031494 train: 7.569444444444445 dev: 10.75 relative_accuracy: 1.420183486238532\n",
      "     17.6 seconds - epoch: 34 loss: 3.6319150924682617 train: 7.569444444444445 dev: 10.75 relative_accuracy: 1.420183486238532\n",
      "     17.9 seconds - epoch: 35 loss: 3.61795973777771 train: 7.5 dev: 10.75 relative_accuracy: 1.4333333333333333\n",
      "     18.1 seconds - epoch: 36 loss: 3.5985052585601807 train: 8.26388888888889 dev: 10.75 relative_accuracy: 1.3008403361344538\n",
      "     17.8 seconds - epoch: 37 loss: 3.5897176265716553 train: 7.899305555555555 dev: 10.625 relative_accuracy: 1.3450549450549452\n",
      "     17.4 seconds - epoch: 38 loss: 3.6316633224487305 train: 8.61111111111111 dev: 10.5 relative_accuracy: 1.2193548387096775\n",
      "     18.1 seconds - epoch: 39 loss: 3.610980272293091 train: 8.29861111111111 dev: 10.625 relative_accuracy: 1.280334728033473\n",
      "     18.0 seconds - epoch: 40 loss: 3.5541422367095947 train: 8.489583333333334 dev: 10.625 relative_accuracy: 1.2515337423312882\n",
      "     17.7 seconds - epoch: 41 loss: 3.620911121368408 train: 7.96875 dev: 10.375 relative_accuracy: 1.3019607843137255\n",
      "     17.6 seconds - epoch: 42 loss: 3.630747079849243 train: 7.5 dev: 10.625 relative_accuracy: 1.4166666666666667\n",
      "     18.1 seconds - epoch: 43 loss: 3.581148386001587 train: 8.090277777777779 dev: 10.25 relative_accuracy: 1.2669527896995707\n",
      "     18.0 seconds - epoch: 44 loss: 3.543229103088379 train: 8.559027777777779 dev: 11.125 relative_accuracy: 1.2997971602434075\n",
      "     17.2 seconds - epoch: 45 loss: 3.546797037124634 train: 7.690972222222222 dev: 11.0 relative_accuracy: 1.4302483069977427\n",
      "     18.0 seconds - epoch: 46 loss: 3.5920164585113525 train: 7.986111111111111 dev: 11.25 relative_accuracy: 1.4086956521739131\n",
      "     18.1 seconds - epoch: 47 loss: 3.645972967147827 train: 8.125 dev: 11.0 relative_accuracy: 1.353846153846154\n",
      "     18.1 seconds - epoch: 48 loss: 3.5466420650482178 train: 8.14236111111111 dev: 10.875 relative_accuracy: 1.3356076759061835\n",
      "     18.0 seconds - epoch: 49 loss: 3.5848946571350098 train: 7.586805555555555 dev: 11.125 relative_accuracy: 1.4663615560640733\n",
      "     18.0 seconds - epoch: 50 loss: 3.6026127338409424 train: 7.986111111111111 dev: 11.25 relative_accuracy: 1.4086956521739131\n",
      "     18.2 seconds - epoch: 51 loss: 3.5814871788024902 train: 8.125 dev: 10.875 relative_accuracy: 1.3384615384615384\n",
      "     17.8 seconds - epoch: 52 loss: 3.616455554962158 train: 8.072916666666666 dev: 10.875 relative_accuracy: 1.3470967741935485\n",
      "     18.0 seconds - epoch: 53 loss: 3.5877833366394043 train: 7.743055555555555 dev: 10.875 relative_accuracy: 1.4044843049327356\n",
      "     18.0 seconds - epoch: 54 loss: 3.645761728286743 train: 7.864583333333333 dev: 11.0 relative_accuracy: 1.3986754966887418\n",
      "     17.6 seconds - epoch: 55 loss: 3.5994760990142822 train: 8.315972222222221 dev: 11.0 relative_accuracy: 1.3227557411273487\n",
      "     18.0 seconds - epoch: 56 loss: 3.525348663330078 train: 7.899305555555555 dev: 10.625 relative_accuracy: 1.3450549450549452\n",
      "     17.7 seconds - epoch: 57 loss: 3.619623899459839 train: 8.333333333333334 dev: 11.125 relative_accuracy: 1.335\n",
      "     17.8 seconds - epoch: 58 loss: 3.6005380153656006 train: 8.61111111111111 dev: 11.25 relative_accuracy: 1.3064516129032258\n",
      "     18.0 seconds - epoch: 59 loss: 3.615196704864502 train: 7.638888888888889 dev: 10.5 relative_accuracy: 1.3745454545454545\n",
      "     18.2 seconds - epoch: 60 loss: 3.5753121376037598 train: 8.315972222222221 dev: 10.75 relative_accuracy: 1.2926931106471817\n",
      "     18.1 seconds - epoch: 61 loss: 3.5820133686065674 train: 7.326388888888889 dev: 10.875 relative_accuracy: 1.4843601895734597\n",
      "     18.1 seconds - epoch: 62 loss: 3.6366941928863525 train: 8.472222222222221 dev: 10.75 relative_accuracy: 1.2688524590163937\n",
      "     18.0 seconds - epoch: 63 loss: 3.5869128704071045 train: 8.055555555555555 dev: 11.0 relative_accuracy: 1.3655172413793104\n",
      "     17.7 seconds - epoch: 64 loss: 3.5973622798919678 train: 8.350694444444445 dev: 11.0 relative_accuracy: 1.3172557172557173\n",
      "     17.6 seconds - epoch: 65 loss: 3.518202066421509 train: 8.177083333333334 dev: 11.0 relative_accuracy: 1.3452229299363057\n"
     ]
    }
   ],
   "source": [
    "model = train_model(model, train_loader, learning_rate=.01, max_epochs=100)"
   ]
  },
  {
   "cell_type": "code",
   "execution_count": null,
   "metadata": {},
   "outputs": [],
   "source": []
  }
 ],
 "metadata": {
  "kernelspec": {
   "display_name": "Python 3",
   "language": "python",
   "name": "python3"
  },
  "language_info": {
   "codemirror_mode": {
    "name": "ipython",
    "version": 3
   },
   "file_extension": ".py",
   "mimetype": "text/x-python",
   "name": "python",
   "nbconvert_exporter": "python",
   "pygments_lexer": "ipython3",
   "version": "3.7.6"
  }
 },
 "nbformat": 4,
 "nbformat_minor": 4
}
