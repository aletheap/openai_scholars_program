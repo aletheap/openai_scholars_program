{
 "cells": [
  {
   "cell_type": "code",
   "execution_count": null,
   "metadata": {},
   "outputs": [],
   "source": [
    "import torch\n",
    "from torch import nn\n",
    "import matplotlib\n",
    "import torchvision\n",
    "from torchvision import transforms\n",
    "import matplotlib.pyplot as plt\n",
    "import numpy as np"
   ]
  },
  {
   "cell_type": "code",
   "execution_count": null,
   "metadata": {},
   "outputs": [],
   "source": [
    "imagedir = \"/home/apower/data/oxford-iiit-pet/breeds\"\n",
    "\n",
    "# https://www.learnopencv.com/pytorch-for-beginners-image-classification-using-pre-trained-models/\n",
    "transform = transforms.Compose([transforms.Resize(256),        \n",
    "                                transforms.CenterCrop(224),    \n",
    "                                transforms.ToTensor(),         \n",
    "                                transforms.Normalize(mean=[0.485, 0.456, 0.406],    \n",
    "                                                     std=[0.229, 0.224, 0.225])\n",
    "                               ])\n",
    "\n",
    "dataset = torchvision.datasets.ImageFolder(imagedir, transform)\n",
    "total_pics = len(dataset)\n",
    "test_pics = int(min(total_pics * .1, 1000))\n",
    "dev_pics = int(min(total_pics * .1, 1000))\n",
    "train_pics = total_pics - (dev_pics + test_pics)\n",
    "(X_train, X_dev, X_test) = torch.utils.data.random_split(dataset, (train_pics, dev_pics, test_pics))"
   ]
  },
  {
   "cell_type": "code",
   "execution_count": null,
   "metadata": {},
   "outputs": [],
   "source": [
    "X_train[0][0]\n",
    "\n",
    "to_pic = torchvision.transforms.ToPILImage()\n",
    "to_pic(X_train[0][0])"
   ]
  },
  {
   "cell_type": "code",
   "execution_count": null,
   "metadata": {},
   "outputs": [],
   "source": [
    "to_pic(X_dev[0][0])"
   ]
  },
  {
   "cell_type": "code",
   "execution_count": null,
   "metadata": {},
   "outputs": [],
   "source": [
    "to_pic(X_test[0][0])"
   ]
  },
  {
   "cell_type": "code",
   "execution_count": null,
   "metadata": {},
   "outputs": [],
   "source": [
    "print('training_set:', len(X_train), '\\ndev_set:', len(X_dev), '\\ntest_set:', len(X_test))"
   ]
  },
  {
   "cell_type": "code",
   "execution_count": null,
   "metadata": {},
   "outputs": [],
   "source": [
    "class ConvModule(nn.Module):\n",
    "    \n",
    "    def __init__(self, in_channels, out_channels, kernel_size, \n",
    "                 stride=1, padding=0, dilation=1, groups=1, bias=True, \n",
    "                 padding_mode='zeros'):\n",
    "        super().__init__()\n",
    "        self.conv = nn.Conv2d(in_channels, out_channels, kernel_size, \n",
    "                              stride, padding, dilation, groups, \n",
    "                              bias, padding_mode)\n",
    "\n",
    "    def forward(self, x):\n",
    "        return self.conv(x) "
   ]
  },
  {
   "cell_type": "code",
   "execution_count": null,
   "metadata": {},
   "outputs": [],
   "source": [
    "class MaxPoolModule(nn.Module):\n",
    "    \n",
    "    def __init__(self, kernel_size, stride=None, padding=0, dilation=1, \n",
    "                 return_indices=False, ceil_mode=False):\n",
    "        super().__init__()\n",
    "        self.maxpool = nn.MaxPool2d(kernel_size, stride, padding, dilation, \n",
    "                                    return_indices, ceil_mode)\n",
    "\n",
    "    def forward(self, x):\n",
    "        return self.maxpool(x) "
   ]
  },
  {
   "cell_type": "code",
   "execution_count": null,
   "metadata": {},
   "outputs": [],
   "source": [
    "class AvgPoolModule(nn.Module):\n",
    "    \n",
    "    def __init__(self, kernel_size, stride=None, padding=0, ceil_mode=False, \n",
    "                 count_include_pad=True, divisor_override=None):\n",
    "        super().__init__()\n",
    "        self.avgpool = nn.AveragePool2d(kernel_size, stride, padding, ceil_mode, \n",
    "                                        count_include_pad, divisor_override)\n",
    "\n",
    "    def forward(self, x):\n",
    "        return self.avgpool(x) "
   ]
  },
  {
   "cell_type": "code",
   "execution_count": null,
   "metadata": {},
   "outputs": [],
   "source": [
    "class ResidualModule(nn.Module):\n",
    "    \n",
    "    def __init__(self, in_channels, out_channels, kernel_size, \n",
    "                 stride=[1]*3, padding=[0]*3, dilation=[1]*3, \n",
    "                 groups=[1]*3, bias=[True]*3, padding_mode=['zeros']*3):\n",
    "\n",
    "        super().__init__()\n",
    "        \n",
    "        self.layers = []\n",
    "        for i in range(3):\n",
    "            self.layers[i] = nn.Conv2d(in_channels[i], out_channels[i], kernel_size[i], \n",
    "                                       stride[i], padding[i], dilation[i], \n",
    "                                       groups[i], bias[i], padding_mode[i])\n",
    "        \n",
    "    def forward(self, x):\n",
    "        a0 = self.layers[0](x)\n",
    "        a1 = self.layers[1](a0)\n",
    "        a2 = self.layers[2](a1) + a0\n",
    "        return a2\n",
    "        "
   ]
  },
  {
   "cell_type": "code",
   "execution_count": null,
   "metadata": {},
   "outputs": [],
   "source": [
    "class ResidualModuleType1(ResidualModule):\n",
    "    \n",
    "    def __init__(self):\n",
    "        super().__init__(self, in_channels=[64,64,64], out_channels=[64,64,256], kernel_size=[1,3,1], \n",
    "                 stride=[1]*3, padding=, dilation=, groups=, bias=, \n",
    "                 padding_mode=)\n",
    "        \n"
   ]
  },
  {
   "cell_type": "code",
   "execution_count": null,
   "metadata": {},
   "outputs": [],
   "source": []
  },
  {
   "cell_type": "code",
   "execution_count": null,
   "metadata": {},
   "outputs": [],
   "source": []
  },
  {
   "cell_type": "code",
   "execution_count": null,
   "metadata": {},
   "outputs": [],
   "source": []
  },
  {
   "cell_type": "code",
   "execution_count": null,
   "metadata": {},
   "outputs": [],
   "source": []
  },
  {
   "cell_type": "code",
   "execution_count": null,
   "metadata": {},
   "outputs": [],
   "source": [
    "Layer1 = Conv(in_channels=3, out_channels=64, kernel_size=7, stride=2)\n",
    "Layer2 = MaxPool(kernel_size=3, stride=2)\n"
   ]
  },
  {
   "cell_type": "code",
   "execution_count": null,
   "metadata": {},
   "outputs": [],
   "source": [
    "torch.manual_seed(1)\n",
    "model = LR(1,1)\n",
    "print(model)\n"
   ]
  },
  {
   "cell_type": "code",
   "execution_count": null,
   "metadata": {},
   "outputs": [],
   "source": [
    "x = torch.tensor([[1.0], [2.0]])\n",
    "def get_params():\n",
    "    [w, b] = model.parameters()\n",
    "    return (w[0][0].item(), b[0].item())\n",
    "print(get_params())\n"
   ]
  },
  {
   "cell_type": "code",
   "execution_count": null,
   "metadata": {},
   "outputs": [],
   "source": [
    "def plot_fit(title):\n",
    "    plt.title = title\n",
    "    w1, b1 = get_params()\n",
    "    x1 = np.array([-30, 30])\n",
    "    y1 = w1*x1 + b1\n",
    "    plt.plot(x1, y1, 'r')\n",
    "    plt.scatter(X, y)\n",
    "    plt.show()"
   ]
  },
  {
   "cell_type": "code",
   "execution_count": null,
   "metadata": {},
   "outputs": [],
   "source": [
    "plot_fit('initial_model')"
   ]
  },
  {
   "cell_type": "code",
   "execution_count": null,
   "metadata": {},
   "outputs": [],
   "source": [
    "criterion = nn.MSELoss()\n",
    "optimizer = torch.optim.SGD(model.parameters(), lr=0.01)"
   ]
  },
  {
   "cell_type": "code",
   "execution_count": null,
   "metadata": {},
   "outputs": [],
   "source": [
    "epochs = 100\n",
    "\n",
    "losses = []\n",
    "for i in range(epochs):\n",
    "    y_pred = model.forward(X)\n",
    "    loss = criterion(y_pred, y)\n",
    "    print('epoch:', i, 'loss:', loss.item())\n",
    "    \n",
    "    losses.append(loss)\n",
    "    optimizer.zero_grad()\n",
    "    loss.backward()\n",
    "    optimizer.step()"
   ]
  },
  {
   "cell_type": "code",
   "execution_count": null,
   "metadata": {},
   "outputs": [],
   "source": [
    "plt.plot(range(epochs), losses)\n",
    "plt.ylabel('Loss')\n",
    "plt.xlabel('epoch')"
   ]
  },
  {
   "cell_type": "code",
   "execution_count": null,
   "metadata": {},
   "outputs": [],
   "source": [
    "plot_fit('end')"
   ]
  },
  {
   "cell_type": "code",
   "execution_count": null,
   "metadata": {},
   "outputs": [],
   "source": []
  },
  {
   "cell_type": "code",
   "execution_count": null,
   "metadata": {},
   "outputs": [],
   "source": []
  },
  {
   "cell_type": "code",
   "execution_count": null,
   "metadata": {},
   "outputs": [],
   "source": []
  },
  {
   "cell_type": "code",
   "execution_count": null,
   "metadata": {},
   "outputs": [],
   "source": [
    "#resnet = torchvision.models.resnet50(pretrained=False, progress=True)\n",
    "root = \"/home/apower/data/oxford-iiit-pet/breeds\"\n",
    "\n",
    "# https://www.learnopencv.com/pytorch-for-beginners-image-classification-using-pre-trained-models/\n",
    "transform = transforms.Compose([transforms.Resize(256),        \n",
    "                                transforms.CenterCrop(224),    \n",
    "                                transforms.ToTensor(),         \n",
    "                                transforms.Normalize(          \n",
    "                                mean=[0.485, 0.456, 0.406],    \n",
    "                                std=[0.229, 0.224, 0.225]      \n",
    "                                )])\n",
    "\n",
    "dataset = torchvision.datasets.ImageFolder(root, transform)\n"
   ]
  },
  {
   "cell_type": "code",
   "execution_count": null,
   "metadata": {},
   "outputs": [],
   "source": [
    "def forward(x):\n",
    "    y = w * x + b\n",
    "    return y\n"
   ]
  },
  {
   "cell_type": "code",
   "execution_count": null,
   "metadata": {},
   "outputs": [],
   "source": [
    "\n",
    "\n",
    "\n",
    "model = nn.Linear(in_features=1, out_features=1)\n",
    "x = torch.tensor([[2.0], [3.3]])\n",
    "\n",
    "\n",
    "class ConvLayer(nn.Module):\n",
    "\n",
    "    def __init__(self, in_channels, out_channels, kernel_size, stride=1, padding=0):\n",
    "        super().__init()\n",
    "        self.conv2d = nn.Conv2d(in_channels, out_channels, kernel_size, stride=1, padding=0)\n",
    "\n",
    "    def forward(self, x):\n",
    "        return self.conv2d(x)\n",
    "\n",
    "class SoftMax(nn.Softmax):\n",
    "\n",
    "    def __init__(self, in_channels, out_channels, kernel_size, stride=1, padding=0):\n",
    "        super().__init()\n",
    "        self.conv2d = nn.Conv2d(in_channels, out_channels, kernel_size, stride=1, padding=0)\n",
    "\n",
    "    def forward(self, x):\n",
    "        return self.conv2d(x)\n",
    "\n",
    "\n",
    "\n",
    "\n",
    "\n",
    "\n",
    "\n",
    "#model = torchvision.models.resnet50(pretrained=False, progress=True)\n",
    "\n",
    "# Let's try something basic like Conv2d -> Conv2d -> Sigmoid\n",
    "\n",
    "\n",
    "def forward(batch, ):\n",
    "    Conv2d\n",
    "\n",
    "\n",
    "model = Linear(in_features=1, out_features=1)"
   ]
  }
 ],
 "metadata": {
  "kernelspec": {
   "display_name": "Python 3",
   "language": "python",
   "name": "python3"
  },
  "language_info": {
   "codemirror_mode": {
    "name": "ipython",
    "version": 3
   },
   "file_extension": ".py",
   "mimetype": "text/x-python",
   "name": "python",
   "nbconvert_exporter": "python",
   "pygments_lexer": "ipython3",
   "version": "3.7.6"
  }
 },
 "nbformat": 4,
 "nbformat_minor": 4
}
