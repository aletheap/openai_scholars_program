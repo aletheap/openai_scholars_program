{
 "cells": [
  {
   "cell_type": "markdown",
   "metadata": {},
   "source": [
    "# ConvNet Example"
   ]
  },
  {
   "cell_type": "code",
   "execution_count": 1,
   "metadata": {},
   "outputs": [],
   "source": [
    "import os\n",
    "\n",
    "import matplotlib.pyplot as plt\n",
    "import numpy as np\n",
    "\n",
    "import torch\n",
    "from torch import nn\n",
    "from torch.utils.data import DataLoader\n",
    "\n",
    "import torchvision\n",
    "from torchvision import transforms\n",
    "import time\n",
    "\n",
    "import wandb"
   ]
  },
  {
   "cell_type": "code",
   "execution_count": 2,
   "metadata": {},
   "outputs": [
    {
     "name": "stdout",
     "output_type": "stream",
     "text": [
      "0 GeForce RTX 2080 Ti\n",
      "1 GeForce GTX 1080 Ti\n",
      "2 GeForce GTX 980\n"
     ]
    }
   ],
   "source": [
    "for i in range(3):\n",
    "    print(i, torch.cuda.get_device_name(i))"
   ]
  },
  {
   "cell_type": "code",
   "execution_count": 3,
   "metadata": {},
   "outputs": [
    {
     "data": {
      "text/html": [
       "\n",
       "                Logging results to <a href=\"https://wandb.com\" target=\"_blank\">Weights & Biases</a> <a href=\"https://docs.wandb.com/integrations/jupyter.html\" target=\"_blank\">(Documentation)</a>.<br/>\n",
       "                Project page: <a href=\"https://app.wandb.ai/aletheap/toy-conv-net\" target=\"_blank\">https://app.wandb.ai/aletheap/toy-conv-net</a><br/>\n",
       "                Run page: <a href=\"https://app.wandb.ai/aletheap/toy-conv-net/runs/tuwxzy8x\" target=\"_blank\">https://app.wandb.ai/aletheap/toy-conv-net/runs/tuwxzy8x</a><br/>\n",
       "            "
      ],
      "text/plain": [
       "<IPython.core.display.HTML object>"
      ]
     },
     "metadata": {},
     "output_type": "display_data"
    },
    {
     "data": {
      "text/plain": [
       "W&B Run: https://app.wandb.ai/aletheap/toy-conv-net/runs/tuwxzy8x"
      ]
     },
     "execution_count": 3,
     "metadata": {},
     "output_type": "execute_result"
    }
   ],
   "source": [
    "config = {\n",
    "            'device': 'cuda:0',\n",
    "            'initializer': 'xavier_normal_',\n",
    "            'learning_rate': 0.1,\n",
    "            'load_workers': 20, \n",
    "            'batch_size': 190,\n",
    "            'max_epochs': 1,\n",
    "            'training_loops': 1,\n",
    "            'optimizer': 'SGD',\n",
    "            'dataset': 'oxford-iiit-pet',\n",
    "         }\n",
    "wandb.init(project=\"toy-conv-net\", config=config)"
   ]
  },
  {
   "cell_type": "code",
   "execution_count": 4,
   "metadata": {},
   "outputs": [
    {
     "name": "stdout",
     "output_type": "stream",
     "text": [
      "Using device: cuda:0\n"
     ]
    }
   ],
   "source": [
    "device = torch.device(wandb.config.device)\n",
    "print(\"Using device:\", device)"
   ]
  },
  {
   "cell_type": "markdown",
   "metadata": {},
   "source": [
    "## Load our data. \n",
    "\n",
    "I'm using advice from https://www.learnopencv.com/pytorch-for-beginners-image-classification-using-pre-trained-models/ about regularizing image data. \n"
   ]
  },
  {
   "cell_type": "code",
   "execution_count": 5,
   "metadata": {},
   "outputs": [
    {
     "name": "stdout",
     "output_type": "stream",
     "text": [
      "datadir: /home/apower/data/oxford-iiit-pet\n",
      "traindir: /home/apower/data/oxford-iiit-pet/train\n",
      "devdir: /home/apower/data/oxford-iiit-pet/dev\n",
      "testdir: /home/apower/data/oxford-iiit-pet/test\n",
      "training_set: 5760 \n",
      "dev_set: 800 \n",
      "test_set: 800 \n",
      "labels: 38\n"
     ]
    }
   ],
   "source": [
    "transform = transforms.Compose([transforms.Resize(256),\n",
    "                                transforms.RandomCrop(224),\n",
    "                                transforms.ColorJitter(brightness=.5, contrast=.5, saturation=.5, hue=.5),\n",
    "                                transforms.RandomHorizontalFlip(),\n",
    "                                transforms.RandomRotation(90),\n",
    "                                transforms.ToTensor(),         \n",
    "                                transforms.Normalize(mean=[0.485, 0.456, 0.406],    \n",
    "                                                     std=[0.229, 0.224, 0.225])\n",
    "                               ])\n",
    "\n",
    "dev_test_transform = transforms.Compose([transforms.Resize(256),\n",
    "                                transforms.CenterCrop(224),\n",
    "                                transforms.ToTensor(),         \n",
    "                                transforms.Normalize(mean=[0.485, 0.456, 0.406],    \n",
    "                                                     std=[0.229, 0.224, 0.225])\n",
    "                               ])\n",
    "\n",
    "\n",
    "datadir = os.path.join(\"/home/apower/data\", wandb.config.dataset) \n",
    "print('datadir:', datadir)\n",
    "traindir = os.path.join(datadir, 'train')\n",
    "print('traindir:', traindir)\n",
    "devdir = os.path.join(datadir, 'dev')\n",
    "print('devdir:', devdir)\n",
    "testdir = os.path.join(datadir, 'test')\n",
    "print('testdir:', testdir)\n",
    "\n",
    "X_train = torchvision.datasets.ImageFolder(traindir, transform)\n",
    "X_dev = torchvision.datasets.ImageFolder(devdir, dev_test_transform)\n",
    "X_test = torchvision.datasets.ImageFolder(testdir, dev_test_transform)\n",
    "\n",
    "num_labels = len(X_train.classes)\n",
    "\n",
    "print('training_set:', len(X_train), '\\ndev_set:', len(X_dev), '\\ntest_set:', len(X_test), '\\nlabels:', num_labels)\n",
    "#print('training_set:', len(X_train), '\\ndev_set:', len(X_dev), '\\nlabels:', num_labels)"
   ]
  },
  {
   "cell_type": "code",
   "execution_count": 6,
   "metadata": {},
   "outputs": [],
   "source": [
    "#to_pic = torchvision.transforms.ToPILImage()\n",
    "#to_pic(X_train[0][0])"
   ]
  },
  {
   "cell_type": "code",
   "execution_count": 7,
   "metadata": {},
   "outputs": [],
   "source": [
    "train_loader = DataLoader(X_train, batch_size=wandb.config.batch_size, shuffle=True, num_workers=wandb.config.load_workers)\n",
    "dev_loader = DataLoader(X_dev, batch_size=1, shuffle=True)\n",
    "test_loader = DataLoader(X_test, batch_size=1, shuffle=True)"
   ]
  },
  {
   "cell_type": "markdown",
   "metadata": {},
   "source": [
    "## Let's Build the Model"
   ]
  },
  {
   "cell_type": "code",
   "execution_count": 8,
   "metadata": {},
   "outputs": [],
   "source": [
    "class TestNet(nn.Module):\n",
    "    def __init__(self, num_labels):\n",
    "        super().__init__()\n",
    "        self.num_labels = num_labels\n",
    "        self.layer1 = nn.Sequential(nn.Conv2d(in_channels=3, out_channels=64, kernel_size=16),\n",
    "                                    nn.ReLU(),\n",
    "                                    #nn.BatchNorm2d(num_features=64),\n",
    "                                    nn.MaxPool2d(kernel_size=16, stride=16),\n",
    "                                   )\n",
    "        self.layer2 = nn.Sequential(nn.Conv2d(in_channels=64, out_channels=128, kernel_size=4),\n",
    "                                    nn.ReLU(),\n",
    "                                    #nn.BatchNorm2d(num_features=128),\n",
    "                                    nn.MaxPool2d(kernel_size=4, stride=4),\n",
    "                                   )\n",
    "        self.fc1 = nn.Sequential(nn.Linear(in_features=512, out_features=num_labels),\n",
    "                                 nn.ReLU(),\n",
    "                                )                \n",
    "    def forward(self, X):\n",
    "        #assert X.size() == torch.Size([1, 3, 224, 224]) \n",
    "        a1 = self.layer1(X)\n",
    "        #print('a1.size():', a1.size())\n",
    "        a2 = self.layer2(a1)\n",
    "        #print('a2.size():', a2.size())\n",
    "        a2 = a2.reshape(a2.size(0), -1)\n",
    "        #print('reshaped a2.size():', a2.size())\n",
    "        a3 = self.fc1(a2)\n",
    "        #print('a3.size():', a3.size())\n",
    "        return a3\n",
    "        "
   ]
  },
  {
   "cell_type": "markdown",
   "metadata": {},
   "source": [
    "## Train the Model\n",
    "\n"
   ]
  },
  {
   "cell_type": "code",
   "execution_count": 9,
   "metadata": {},
   "outputs": [],
   "source": [
    "model = TestNet(num_labels=num_labels)\n",
    "#wandb.watch(model)\n",
    "#model = nn.DataParallel(model)\n",
    "model = model.to(device)"
   ]
  },
  {
   "cell_type": "code",
   "execution_count": 10,
   "metadata": {},
   "outputs": [
    {
     "name": "stdout",
     "output_type": "stream",
     "text": [
      "Parameter containing:\n",
      "tensor([ 0.0040,  0.0356, -0.0203, -0.0009, -0.0434, -0.0328,  0.0197, -0.0213,\n",
      "         0.0344, -0.0407,  0.0030, -0.0021, -0.0110,  0.0002, -0.0393, -0.0115,\n",
      "         0.0237,  0.0043, -0.0062,  0.0130, -0.0423,  0.0297,  0.0264,  0.0401,\n",
      "         0.0259,  0.0146,  0.0088,  0.0384, -0.0022, -0.0108,  0.0246,  0.0119,\n",
      "         0.0314,  0.0146,  0.0328, -0.0346,  0.0294,  0.0404], device='cuda:0',\n",
      "       requires_grad=True)\n"
     ]
    }
   ],
   "source": [
    "params = model.parameters()\n",
    "p = list(params)[-1]\n",
    "print(p)\n",
    "#print(p + 2)"
   ]
  },
  {
   "cell_type": "code",
   "execution_count": 11,
   "metadata": {},
   "outputs": [],
   "source": [
    "#os.environ['CUDA_LAUNCH_BLOCKING'] = \"1\""
   ]
  },
  {
   "cell_type": "code",
   "execution_count": 12,
   "metadata": {},
   "outputs": [],
   "source": [
    "def accuracy(model, loader, name):\n",
    "    #model = model.eval()\n",
    "    correct = 0\n",
    "    total = 0\n",
    "    with torch.no_grad():\n",
    "        for data in loader:\n",
    "            images, labels = data\n",
    "            images, labels = images.to(device), labels.to(device)\n",
    "            outputs = model(images)\n",
    "            _, predicted = torch.max(outputs.data, 1)\n",
    "            total += labels.size(0)\n",
    "            correct += (predicted == labels).sum().item()\n",
    "    accuracy = 100 * correct / total\n",
    "    #print('Accuracy of the network on the %s images: %.1f %%' % (name, accuracy))\n",
    "    #wandb.log({name + '_set_accuracy': accuracy})\n",
    "    return accuracy"
   ]
  },
  {
   "cell_type": "code",
   "execution_count": 21,
   "metadata": {},
   "outputs": [],
   "source": [
    "def train_model(model, loader, learning_rate=0.1, max_epochs=20):\n",
    "    model = model.train()\n",
    "    criterion = nn.CrossEntropyLoss()\n",
    "    optimizer = getattr(torch.optim, wandb.config.optimizer)(model.parameters(), lr=learning_rate)\n",
    "\n",
    "    for epoch in range(max_epochs):\n",
    "        t0 = time.time()\n",
    "        for local_batch, local_labels in loader:\n",
    "            # Transfer to GPU\n",
    "            X, y = local_batch.to(device), local_labels.to(device)\n",
    "            y_pred = model.forward(X)\n",
    "            loss = criterion(y_pred, y)\n",
    "            loss.item()\n",
    "            optimizer.zero_grad()\n",
    "            loss.backward()\n",
    "            optimizer.step()\n",
    "        t1 = time.time()\n",
    "        duration = t1-t0\n",
    "        loss_num = loss.item()\n",
    "        train_accuracy = accuracy(model, train_loader, 'train')\n",
    "        dev_accuracy = accuracy(model, dev_loader, 'dev')\n",
    "        wandb.log({'loss': loss.item(), 'secs_per_epoch': duration, 'train_accuracy': train_accuracy, 'dev_accuracy': dev_accuracy, 'relative_accuracy': dev_accuracy / train_accuracy})\n",
    "        print(' ' * 4, '%.1f seconds -' % (duration), 'epoch:', epoch, 'loss:', loss_num, 'train:', train_accuracy, 'dev:', dev_accuracy, 'relative_accuracy:', dev_accuracy / train_accuracy)\n",
    "\n",
    "    return model"
   ]
  },
  {
   "cell_type": "code",
   "execution_count": 15,
   "metadata": {},
   "outputs": [
    {
     "data": {
      "text/plain": [
       "Parameter containing:\n",
       "tensor([ 0.0040,  0.0356, -0.0203, -0.0009, -0.0434, -0.0328,  0.0197, -0.0213,\n",
       "         0.0344, -0.0407,  0.0030, -0.0021, -0.0110,  0.0002, -0.0393, -0.0115,\n",
       "         0.0237,  0.0043, -0.0062,  0.0130, -0.0423,  0.0297,  0.0264,  0.0401,\n",
       "         0.0259,  0.0146,  0.0088,  0.0384, -0.0022, -0.0108,  0.0246,  0.0119,\n",
       "         0.0314,  0.0146,  0.0328, -0.0346,  0.0294,  0.0404], device='cuda:0',\n",
       "       requires_grad=True)"
      ]
     },
     "execution_count": 15,
     "metadata": {},
     "output_type": "execute_result"
    }
   ],
   "source": [
    "p"
   ]
  },
  {
   "cell_type": "code",
   "execution_count": 22,
   "metadata": {},
   "outputs": [
    {
     "name": "stdout",
     "output_type": "stream",
     "text": [
      "learning_rate: 0.1 max_epochs: 1\n",
      "     13.6 seconds - epoch: 0 loss: 3.5810225009918213 train: 5.503472222222222 dev: 5.5 relative_accuracy: 0.9993690851735015\n"
     ]
    }
   ],
   "source": [
    "for i in range(wandb.config.training_loops):\n",
    "    # train model\n",
    "    print('learning_rate:', wandb.config.learning_rate, 'max_epochs:', wandb.config.max_epochs)\n",
    "    model = train_model(model, \n",
    "                        train_loader, \n",
    "                        learning_rate=wandb.config.learning_rate, \n",
    "                        max_epochs=wandb.config.max_epochs)\n",
    "\n",
    "    # save weights\n",
    "    #cpu_model = model.to(torch.device('cpu'))\n",
    "    #torch.save(cpu_model, 'resnet-augmenting.pt')\n",
    "    #model = model.to(device)\n",
    "\n",
    "    # slow down learning\n",
    "    #learning_rate = learning_rate / 10\n",
    "    #max_epochs = max_epochs + 300\n"
   ]
  },
  {
   "cell_type": "code",
   "execution_count": 17,
   "metadata": {},
   "outputs": [],
   "source": [
    "p2 = list(model.parameters())[-1]"
   ]
  },
  {
   "cell_type": "code",
   "execution_count": 18,
   "metadata": {},
   "outputs": [
    {
     "data": {
      "text/plain": [
       "Parameter containing:\n",
       "tensor([ 0.0038,  0.0332, -0.0168, -0.0031, -0.0452, -0.0328,  0.0181, -0.0236,\n",
       "         0.0446, -0.0403,  0.0034, -0.0040, -0.0142, -0.0033, -0.0419, -0.0184,\n",
       "         0.0236,  0.0015, -0.0072,  0.0091, -0.0490,  0.0292,  0.0280,  0.0376,\n",
       "         0.0264,  0.0116,  0.0013,  0.0384, -0.0037, -0.0070,  0.0203,  0.0044,\n",
       "         0.0318,  0.0116,  0.0349, -0.0378,  0.0266,  0.0391], device='cuda:0',\n",
       "       requires_grad=True)"
      ]
     },
     "execution_count": 18,
     "metadata": {},
     "output_type": "execute_result"
    }
   ],
   "source": [
    "p"
   ]
  },
  {
   "cell_type": "code",
   "execution_count": 19,
   "metadata": {},
   "outputs": [
    {
     "data": {
      "text/plain": [
       "Parameter containing:\n",
       "tensor([ 0.0038,  0.0332, -0.0168, -0.0031, -0.0452, -0.0328,  0.0181, -0.0236,\n",
       "         0.0446, -0.0403,  0.0034, -0.0040, -0.0142, -0.0033, -0.0419, -0.0184,\n",
       "         0.0236,  0.0015, -0.0072,  0.0091, -0.0490,  0.0292,  0.0280,  0.0376,\n",
       "         0.0264,  0.0116,  0.0013,  0.0384, -0.0037, -0.0070,  0.0203,  0.0044,\n",
       "         0.0318,  0.0116,  0.0349, -0.0378,  0.0266,  0.0391], device='cuda:0',\n",
       "       requires_grad=True)"
      ]
     },
     "execution_count": 19,
     "metadata": {},
     "output_type": "execute_result"
    }
   ],
   "source": [
    "p2"
   ]
  },
  {
   "cell_type": "code",
   "execution_count": 20,
   "metadata": {},
   "outputs": [
    {
     "ename": "ConfigError",
     "evalue": "Attempted to change value of key \"max_epochs\" from 1 to 20\nIf you really want to do this, pass allow_val_change=True to config.update()",
     "output_type": "error",
     "traceback": [
      "\u001b[0;31m---------------------------------------------------------------------------\u001b[0m",
      "\u001b[0;31mConfigError\u001b[0m                               Traceback (most recent call last)",
      "\u001b[0;32m<ipython-input-20-f753ca61c70f>\u001b[0m in \u001b[0;36m<module>\u001b[0;34m\u001b[0m\n\u001b[0;32m----> 1\u001b[0;31m \u001b[0mwandb\u001b[0m\u001b[0;34m.\u001b[0m\u001b[0mconfig\u001b[0m\u001b[0;34m.\u001b[0m\u001b[0mmax_epochs\u001b[0m \u001b[0;34m=\u001b[0m \u001b[0;36m20\u001b[0m\u001b[0;34m\u001b[0m\u001b[0;34m\u001b[0m\u001b[0m\n\u001b[0m",
      "\u001b[0;32m~/anaconda3/envs/sandbox1/lib/python3.7/site-packages/wandb/wandb_config.py\u001b[0m in \u001b[0;36m__setitem__\u001b[0;34m(self, key, val)\u001b[0m\n\u001b[1;32m    212\u001b[0m \u001b[0;34m\u001b[0m\u001b[0m\n\u001b[1;32m    213\u001b[0m     \u001b[0;32mdef\u001b[0m \u001b[0m__setitem__\u001b[0m\u001b[0;34m(\u001b[0m\u001b[0mself\u001b[0m\u001b[0;34m,\u001b[0m \u001b[0mkey\u001b[0m\u001b[0;34m,\u001b[0m \u001b[0mval\u001b[0m\u001b[0;34m)\u001b[0m\u001b[0;34m:\u001b[0m\u001b[0;34m\u001b[0m\u001b[0;34m\u001b[0m\u001b[0m\n\u001b[0;32m--> 214\u001b[0;31m         \u001b[0mkey\u001b[0m\u001b[0;34m,\u001b[0m \u001b[0mval\u001b[0m \u001b[0;34m=\u001b[0m \u001b[0mself\u001b[0m\u001b[0;34m.\u001b[0m\u001b[0m_sanitize\u001b[0m\u001b[0;34m(\u001b[0m\u001b[0mkey\u001b[0m\u001b[0;34m,\u001b[0m \u001b[0mval\u001b[0m\u001b[0;34m)\u001b[0m\u001b[0;34m\u001b[0m\u001b[0;34m\u001b[0m\u001b[0m\n\u001b[0m\u001b[1;32m    215\u001b[0m         \u001b[0mself\u001b[0m\u001b[0;34m.\u001b[0m\u001b[0m_items\u001b[0m\u001b[0;34m[\u001b[0m\u001b[0mkey\u001b[0m\u001b[0;34m]\u001b[0m \u001b[0;34m=\u001b[0m \u001b[0mval\u001b[0m\u001b[0;34m\u001b[0m\u001b[0;34m\u001b[0m\u001b[0m\n\u001b[1;32m    216\u001b[0m         \u001b[0mself\u001b[0m\u001b[0;34m.\u001b[0m\u001b[0mpersist\u001b[0m\u001b[0;34m(\u001b[0m\u001b[0;34m)\u001b[0m\u001b[0;34m\u001b[0m\u001b[0;34m\u001b[0m\u001b[0m\n",
      "\u001b[0;32m~/anaconda3/envs/sandbox1/lib/python3.7/site-packages/wandb/wandb_config.py\u001b[0m in \u001b[0;36m_sanitize\u001b[0;34m(self, key, val, allow_val_change)\u001b[0m\n\u001b[1;32m    228\u001b[0m             \u001b[0;32mif\u001b[0m \u001b[0mkey\u001b[0m \u001b[0;32min\u001b[0m \u001b[0mself\u001b[0m\u001b[0;34m.\u001b[0m\u001b[0m_items\u001b[0m \u001b[0;32mand\u001b[0m \u001b[0mval\u001b[0m \u001b[0;34m!=\u001b[0m \u001b[0mself\u001b[0m\u001b[0;34m.\u001b[0m\u001b[0m_items\u001b[0m\u001b[0;34m[\u001b[0m\u001b[0mkey\u001b[0m\u001b[0;34m]\u001b[0m\u001b[0;34m:\u001b[0m\u001b[0;34m\u001b[0m\u001b[0;34m\u001b[0m\u001b[0m\n\u001b[1;32m    229\u001b[0m                 raise ConfigError('Attempted to change value of key \"{}\" from {} to {}\\nIf you really want to do this, pass allow_val_change=True to config.update()'.format(\n\u001b[0;32m--> 230\u001b[0;31m                     key, self._items[key], val))\n\u001b[0m\u001b[1;32m    231\u001b[0m         \u001b[0;32mreturn\u001b[0m \u001b[0mkey\u001b[0m\u001b[0;34m,\u001b[0m \u001b[0mval\u001b[0m\u001b[0;34m\u001b[0m\u001b[0;34m\u001b[0m\u001b[0m\n\u001b[1;32m    232\u001b[0m \u001b[0;34m\u001b[0m\u001b[0m\n",
      "\u001b[0;31mConfigError\u001b[0m: Attempted to change value of key \"max_epochs\" from 1 to 20\nIf you really want to do this, pass allow_val_change=True to config.update()"
     ]
    }
   ],
   "source": [
    "wandb.config.max_epochs = 20"
   ]
  },
  {
   "cell_type": "code",
   "execution_count": null,
   "metadata": {},
   "outputs": [],
   "source": []
  },
  {
   "cell_type": "code",
   "execution_count": 23,
   "metadata": {},
   "outputs": [],
   "source": [
    "p3 = list(model.parameters())[-1]"
   ]
  },
  {
   "cell_type": "code",
   "execution_count": 24,
   "metadata": {},
   "outputs": [
    {
     "data": {
      "text/plain": [
       "Parameter containing:\n",
       "tensor([ 0.0038,  0.0343, -0.0108, -0.0097, -0.0453, -0.0328,  0.0184, -0.0188,\n",
       "         0.0528, -0.0425,  0.0054, -0.0050, -0.0147,  0.0011, -0.0420, -0.0224,\n",
       "         0.0236, -0.0011, -0.0067,  0.0085, -0.0503,  0.0364,  0.0260,  0.0357,\n",
       "         0.0257,  0.0118,  0.0035,  0.0379, -0.0005, -0.0008,  0.0204,  0.0048,\n",
       "         0.0311,  0.0085,  0.0339, -0.0386,  0.0251,  0.0353], device='cuda:0',\n",
       "       requires_grad=True)"
      ]
     },
     "execution_count": 24,
     "metadata": {},
     "output_type": "execute_result"
    }
   ],
   "source": [
    "p3"
   ]
  },
  {
   "cell_type": "code",
   "execution_count": null,
   "metadata": {},
   "outputs": [],
   "source": []
  }
 ],
 "metadata": {
  "kernelspec": {
   "display_name": "Python 3",
   "language": "python",
   "name": "python3"
  },
  "language_info": {
   "codemirror_mode": {
    "name": "ipython",
    "version": 3
   },
   "file_extension": ".py",
   "mimetype": "text/x-python",
   "name": "python",
   "nbconvert_exporter": "python",
   "pygments_lexer": "ipython3",
   "version": "3.7.6"
  }
 },
 "nbformat": 4,
 "nbformat_minor": 4
}
